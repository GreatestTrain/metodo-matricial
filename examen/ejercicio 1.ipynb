{
 "cells": [
  {
   "cell_type": "code",
   "execution_count": 12,
   "metadata": {},
   "outputs": [],
   "source": [
    "import numpy as np\n",
    "from numpy import sin, cos\n",
    "\n",
    "from itertools import product\n",
    "import matplotlib.pyplot as plt\n",
    "\n",
    "def stiffness_armor(E, A, L):\n",
    "    k = E * A / L * np.array([[1, -1], [-1, 1]])\n",
    "    return k\n",
    "\n",
    "def stiffness_beam(E, I, L, c=1):\n",
    "    k = E*I * np.array([\n",
    "        [ 12/L**3,  6/L**2, -12/L**3,  6/L**2],\n",
    "        [  6/L**2,  4/L   ,  -6/L**2,  2/L   ],\n",
    "        [-12/L**3, -6/L**2,  12/L**3, -6/L**2],\n",
    "        [  6/L**2,  2/L   ,  -6/L**2,  4/L   ]  \n",
    "    ])\n",
    "    # positivo antihorario\n",
    "    return k\n",
    "    \n",
    "def stiffness_2d(E, A, I, L, c=1):\n",
    "    k = np.zeros((6,6))\n",
    "\n",
    "    k[*np.meshgrid([0,3], [0,3])] = stiffness_armor(E, A, L)\n",
    "    k[*np.meshgrid([1,2,4,5], [1,2,4,5])] = stiffness_beam(E, I, L, c)\n",
    "\n",
    "    return k\n",
    "\n",
    "def rot_armor(alpha):\n",
    "    t = np.array([\n",
    "        [ cos(alpha), sin(alpha)],\n",
    "        [-sin(alpha), cos(alpha)]\n",
    "    ])\n",
    "    kr = np.kron(np.eye(2), t)\n",
    "    return kr\n",
    "\n",
    "def rot_2d(alpha):\n",
    "    t = np.array([\n",
    "        [ cos(alpha), sin(alpha), 0],\n",
    "        [-sin(alpha), cos(alpha), 0],\n",
    "        [          0,          0, 1]\n",
    "    ])\n",
    "    kr = np.kron(np.eye(2), t)\n",
    "    return kr\n",
    "\n",
    "def rot_armor(alpha):\n",
    "    t = np.array([\n",
    "        [ cos(alpha), sin(alpha)],\n",
    "        [-sin(alpha), cos(alpha) ],\n",
    "    ])\n",
    "    kr = np.kron(np.eye(2), t)\n",
    "    return kr\n",
    "\n",
    "def rot_beam(alpha):\n",
    "    t = np.array([\n",
    "        [cos(alpha), 0],\n",
    "        [0         , 1],\n",
    "    ])\n",
    "    kr = np.kron(np.eye(2), t)\n",
    "    return kr\n",
    "\n",
    "def plot_vectors(vectors, ax=None, margin=0.1):\n",
    "    \"\"\"\n",
    "    Plot vectors from a given matrix.\n",
    "\n",
    "    Parameters:\n",
    "    - vectors: numpy array of shape (n, 2, 2)\n",
    "        Matrix representing n vectors, where each vector is defined by its start and end points.\n",
    "    - ax: matplotlib.axes._subplots.AxesSubplot, optional\n",
    "        Axes on which to plot the vectors. If not specified, a new figure and axes will be created.\n",
    "\n",
    "    Returns:\n",
    "    - ax: matplotlib.axes._subplots.AxesSubplot\n",
    "        The AxesSubplot object on which the vectors are plotted.\n",
    "    \"\"\"\n",
    "    if ax is None:\n",
    "        fig, ax = plt.subplots()\n",
    "\n",
    "    for vector in vectors:\n",
    "        start_point, end_point = vector[0], vector[1]\n",
    "        ax.quiver(start_point[0], start_point[1], end_point[0] - start_point[0], end_point[1] - start_point[1], angles='xy', scale_units='xy', scale=1, color='b')\n",
    "\n",
    "    ax.set_aspect('equal', 'box')\n",
    "    x_min = vectors[:,:,0].min() - margin\n",
    "    x_max = vectors[:,:,0].max() + margin\n",
    "    y_min = vectors[:,:,1].min() - margin\n",
    "    y_max = vectors[:,:,1].max() + margin\n",
    "    ax.set_xlim([min(x_min, 0), x_max])\n",
    "    ax.set_ylim([min(y_min, 0), y_max])\n",
    "    #ax.set_xlim([min(vectors[:,:,0].min(), 0), max(vectors[:,:,0].max(), 0)])\n",
    "    #ax.set_ylim([min(vectors[:,:,1].min(), 0), max(vectors[:,:,1].max(), 0)])\n",
    "    ax.grid(False)\n",
    "    ax.set_axis_off()\n",
    "    ax.axhline(0, color='black', linewidth=0.5)\n",
    "    ax.axvline(0, color='black', linewidth=0.5)\n",
    "    ax.set_xlabel('X')\n",
    "    ax.set_ylabel('Y')\n",
    "    ax.set_title('Vectors Plot')\n",
    "\n",
    "    return ax\n",
    "import matplotlib.pyplot as plt\n",
    "\n",
    "def draw_points(coordinates, ax=None):\n",
    "    \"\"\"\n",
    "    Draw points on a plot and label them with their coordinates.\n",
    "\n",
    "    Parameters:\n",
    "    - coordinates: numpy array of shape (n, 2)\n",
    "        Array representing n points, where each point is defined by its x and y coordinates.\n",
    "    - ax: matplotlib.axes._subplots.AxesSubplot, optional\n",
    "        Axes on which to draw the points. If not specified, a new figure and axes will be created.\n",
    "\n",
    "    Returns:\n",
    "    - ax: matplotlib.axes._subplots.AxesSubplot\n",
    "        The AxesSubplot object on which the points are drawn.\n",
    "    \"\"\"\n",
    "    if ax is None:\n",
    "        fig, ax = plt.subplots()\n",
    "\n",
    "    for i, (x, y) in enumerate(coordinates):\n",
    "        ax.scatter(x, y, label=f'Point {i + 1}')\n",
    "        ax.text(x, y, f'({x}, {y})', fontsize=8, ha='right', va='bottom')\n",
    "\n",
    "    ax.set_aspect('equal', 'box')\n",
    "    ax.grid(False)  # Desactivar la cuadrícula\n",
    "    ax.set_xlabel('X')\n",
    "    ax.set_ylabel('Y')\n",
    "    ax.set_title('Points Plot')\n",
    "    ax.legend()\n",
    "\n",
    "    return ax"
   ]
  },
  {
   "cell_type": "code",
   "execution_count": 13,
   "metadata": {},
   "outputs": [],
   "source": [
    "import numpy as np\n",
    "import pandas as pd"
   ]
  },
  {
   "cell_type": "code",
   "execution_count": 14,
   "metadata": {},
   "outputs": [],
   "source": [
    "#inf = np.finfo(np.float32).max\n",
    "inf = 1_000_000"
   ]
  },
  {
   "cell_type": "code",
   "execution_count": 15,
   "metadata": {},
   "outputs": [],
   "source": [
    "C = np.array([\n",
    "    [ 0, 0],\n",
    "    [ 0, 4],\n",
    "    [ 2, 2],\n",
    "    [ 4, 4],\n",
    "])\n",
    "assert np.shape(C)[1] == 2, \"Las coordenadas se componen de 2 valores.\""
   ]
  },
  {
   "cell_type": "code",
   "execution_count": 16,
   "metadata": {},
   "outputs": [],
   "source": [
    "S = np.array([\n",
    "    [0,0,1],\n",
    "    [0,0,1],\n",
    "    [1,1,1],\n",
    "    [1,1,1],\n",
    "])\n",
    "assert np.shape(S)[1] == 3, \"La matriz S debe estar compuesta de 3 columnas.\"\n",
    "assert np.shape(S)[0] == np.shape(C)[0], \"La matriz S y la matriz C deben tener la misma forma.\""
   ]
  },
  {
   "cell_type": "code",
   "execution_count": 17,
   "metadata": {},
   "outputs": [],
   "source": [
    "B = np.array([\n",
    "    [ 0, 1],\n",
    "    [ 0, 2],\n",
    "    [ 1, 2],\n",
    "    [ 1, 3],\n",
    "    [ 2, 3]\n",
    "])\n",
    "#assert np.shape(B)[1] == 2, \"Las barras deben estar definidas por dos puntos\""
   ]
  },
  {
   "cell_type": "code",
   "execution_count": 18,
   "metadata": {},
   "outputs": [],
   "source": [
    "EAI = np.array([\n",
    "    [1, 1, 1],\n",
    "    [1, 1, 1],\n",
    "    [1, 1, 1],\n",
    "    [1, 1, 1],\n",
    "    [1, 1, 1],\n",
    "])"
   ]
  },
  {
   "cell_type": "code",
   "execution_count": 19,
   "metadata": {},
   "outputs": [
    {
     "ename": "ValueError",
     "evalue": "all the input array dimensions except for the concatenation axis must match exactly, but along dimension 0, the array at index 0 has size 3 and the array at index 1 has size 5",
     "output_type": "error",
     "traceback": [
      "\u001b[0;31m---------------------------------------------------------------------------\u001b[0m",
      "\u001b[0;31mValueError\u001b[0m                                Traceback (most recent call last)",
      "\u001b[1;32m/home/rml/Development/metodo-matricial/examen/ejercicio 1.ipynb Cell 8\u001b[0m line \u001b[0;36m5\n\u001b[1;32m      <a href='vscode-notebook-cell:/home/rml/Development/metodo-matricial/examen/ejercicio%201.ipynb#X10sZmlsZQ%3D%3D?line=2'>3</a>\u001b[0m     alpha \u001b[39m=\u001b[39m np\u001b[39m.\u001b[39marctan(np\u001b[39m.\u001b[39mdivide(\u001b[39m*\u001b[39m(np\u001b[39m.\u001b[39mdiff(C[B], axis\u001b[39m=\u001b[39m\u001b[39m1\u001b[39m)\u001b[39m.\u001b[39msqueeze()\u001b[39m.\u001b[39mT[::\u001b[39m-\u001b[39m\u001b[39m1\u001b[39m])))\n\u001b[1;32m      <a href='vscode-notebook-cell:/home/rml/Development/metodo-matricial/examen/ejercicio%201.ipynb#X10sZmlsZQ%3D%3D?line=3'>4</a>\u001b[0m np\u001b[39m.\u001b[39mrad2deg(alpha)\n\u001b[0;32m----> <a href='vscode-notebook-cell:/home/rml/Development/metodo-matricial/examen/ejercicio%201.ipynb#X10sZmlsZQ%3D%3D?line=4'>5</a>\u001b[0m EAIL \u001b[39m=\u001b[39m np\u001b[39m.\u001b[39;49mhstack([EAI, L])\n",
      "File \u001b[0;32m/usr/lib/python3.11/site-packages/numpy/core/shape_base.py:359\u001b[0m, in \u001b[0;36mhstack\u001b[0;34m(tup, dtype, casting)\u001b[0m\n\u001b[1;32m    357\u001b[0m     \u001b[39mreturn\u001b[39;00m _nx\u001b[39m.\u001b[39mconcatenate(arrs, \u001b[39m0\u001b[39m, dtype\u001b[39m=\u001b[39mdtype, casting\u001b[39m=\u001b[39mcasting)\n\u001b[1;32m    358\u001b[0m \u001b[39melse\u001b[39;00m:\n\u001b[0;32m--> 359\u001b[0m     \u001b[39mreturn\u001b[39;00m _nx\u001b[39m.\u001b[39;49mconcatenate(arrs, \u001b[39m1\u001b[39;49m, dtype\u001b[39m=\u001b[39;49mdtype, casting\u001b[39m=\u001b[39;49mcasting)\n",
      "\u001b[0;31mValueError\u001b[0m: all the input array dimensions except for the concatenation axis must match exactly, but along dimension 0, the array at index 0 has size 3 and the array at index 1 has size 5"
     ]
    }
   ],
   "source": [
    "L = np.linalg.norm(np.diff(C[B], axis=1), axis=2)\n",
    "with np.errstate(divide='ignore'):\n",
    "    alpha = np.arctan(np.divide(*(np.diff(C[B], axis=1).squeeze().T[::-1])))\n",
    "np.rad2deg(alpha)\n",
    "EAIL = np.hstack([EAI, L])"
   ]
  },
  {
   "cell_type": "code",
   "execution_count": null,
   "metadata": {},
   "outputs": [],
   "source": [
    "with np.errstate(divide='ignore', ):    \n",
    "    Ki = []\n",
    "    A = []\n",
    "    Kt = []\n",
    "    for el, t in zip(EAIL, alpha):\n",
    "        Ki.append(stiffness_2d(*el))\n",
    "        A.append(rot_2d(t))\n",
    "        Kt.append(A[-1].T @ Ki[-1] @ A[-1])\n",
    "    Ki = np.array(Ki)\n",
    "    A = np.array(A)\n",
    "    Kt = np.array(Kt)"
   ]
  },
  {
   "cell_type": "code",
   "execution_count": null,
   "metadata": {},
   "outputs": [],
   "source": [
    "def format(value) -> str:\n",
    "    #if np.abs(value) > 10000:\n",
    "    #    return 'inf'\n",
    "    return value.format\n",
    "\n",
    "pd.options.display.float_format = '{:.3F}'.format"
   ]
  },
  {
   "cell_type": "code",
   "execution_count": null,
   "metadata": {},
   "outputs": [
    {
     "data": {
      "text/plain": [
       "((12, 12), (12,))"
      ]
     },
     "execution_count": 11,
     "metadata": {},
     "output_type": "execute_result"
    }
   ],
   "source": [
    "Kg = np.zeros(shape=(S.size,S.size))\n",
    "GLg = np.zeros(shape=(S.size, 1))\n",
    "_idx = np.arange(0, S.size)\n",
    "G_idx = _idx.reshape(len(S), -1)[B].reshape(-1, 6)\n",
    "for idx, Ki, GL in zip(G_idx, Kt, S[B]):\n",
    "    Kg[*np.meshgrid(idx, idx)] += Ki\n",
    "    # GLg[idx] += GL.ravel()\n",
    "GLg = S.ravel()\n",
    "Kg.shape, GLg.shape"
   ]
  },
  {
   "cell_type": "code",
   "execution_count": null,
   "metadata": {},
   "outputs": [
    {
     "data": {
      "text/html": [
       "<div>\n",
       "<style scoped>\n",
       "    .dataframe tbody tr th:only-of-type {\n",
       "        vertical-align: middle;\n",
       "    }\n",
       "\n",
       "    .dataframe tbody tr th {\n",
       "        vertical-align: top;\n",
       "    }\n",
       "\n",
       "    .dataframe thead th {\n",
       "        text-align: right;\n",
       "    }\n",
       "</style>\n",
       "<table border=\"1\" class=\"dataframe\">\n",
       "  <thead>\n",
       "    <tr style=\"text-align: right;\">\n",
       "      <th></th>\n",
       "      <th>3</th>\n",
       "      <th>4</th>\n",
       "      <th>5</th>\n",
       "      <th>6</th>\n",
       "      <th>7</th>\n",
       "      <th>8</th>\n",
       "      <th>9</th>\n",
       "    </tr>\n",
       "  </thead>\n",
       "  <tbody>\n",
       "    <tr>\n",
       "      <th>3</th>\n",
       "      <td>18000.000</td>\n",
       "      <td>9000.000</td>\n",
       "      <td>-0.000</td>\n",
       "      <td>9000.000</td>\n",
       "      <td>0.000</td>\n",
       "      <td>0.000</td>\n",
       "      <td>0.000</td>\n",
       "    </tr>\n",
       "    <tr>\n",
       "      <th>4</th>\n",
       "      <td>9000.000</td>\n",
       "      <td>406000.000</td>\n",
       "      <td>0.000</td>\n",
       "      <td>9000.000</td>\n",
       "      <td>-400000.000</td>\n",
       "      <td>0.000</td>\n",
       "      <td>0.000</td>\n",
       "    </tr>\n",
       "    <tr>\n",
       "      <th>5</th>\n",
       "      <td>-0.000</td>\n",
       "      <td>0.000</td>\n",
       "      <td>602553.600</td>\n",
       "      <td>6384.000</td>\n",
       "      <td>0.000</td>\n",
       "      <td>-2553.600</td>\n",
       "      <td>6384.000</td>\n",
       "    </tr>\n",
       "    <tr>\n",
       "      <th>6</th>\n",
       "      <td>9000.000</td>\n",
       "      <td>9000.000</td>\n",
       "      <td>6384.000</td>\n",
       "      <td>39280.000</td>\n",
       "      <td>0.000</td>\n",
       "      <td>-6384.000</td>\n",
       "      <td>10640.000</td>\n",
       "    </tr>\n",
       "    <tr>\n",
       "      <th>7</th>\n",
       "      <td>0.000</td>\n",
       "      <td>-400000.000</td>\n",
       "      <td>0.000</td>\n",
       "      <td>0.000</td>\n",
       "      <td>402531.250</td>\n",
       "      <td>-0.000</td>\n",
       "      <td>5062.500</td>\n",
       "    </tr>\n",
       "    <tr>\n",
       "      <th>8</th>\n",
       "      <td>0.000</td>\n",
       "      <td>0.000</td>\n",
       "      <td>-2553.600</td>\n",
       "      <td>-6384.000</td>\n",
       "      <td>-0.000</td>\n",
       "      <td>452553.600</td>\n",
       "      <td>-6384.000</td>\n",
       "    </tr>\n",
       "    <tr>\n",
       "      <th>9</th>\n",
       "      <td>0.000</td>\n",
       "      <td>0.000</td>\n",
       "      <td>6384.000</td>\n",
       "      <td>10640.000</td>\n",
       "      <td>5062.500</td>\n",
       "      <td>-6384.000</td>\n",
       "      <td>34780.000</td>\n",
       "    </tr>\n",
       "  </tbody>\n",
       "</table>\n",
       "</div>"
      ],
      "text/plain": [
       "          3           4          5         6           7          8         9\n",
       "3 18000.000    9000.000     -0.000  9000.000       0.000      0.000     0.000\n",
       "4  9000.000  406000.000      0.000  9000.000 -400000.000      0.000     0.000\n",
       "5    -0.000       0.000 602553.600  6384.000       0.000  -2553.600  6384.000\n",
       "6  9000.000    9000.000   6384.000 39280.000       0.000  -6384.000 10640.000\n",
       "7     0.000 -400000.000      0.000     0.000  402531.250     -0.000  5062.500\n",
       "8     0.000       0.000  -2553.600 -6384.000      -0.000 452553.600 -6384.000\n",
       "9     0.000       0.000   6384.000 10640.000    5062.500  -6384.000 34780.000"
      ]
     },
     "execution_count": 43,
     "metadata": {},
     "output_type": "execute_result"
    }
   ],
   "source": [
    "mat = pd.DataFrame(np.diag(GLg) @ Kg @ np.diag(GLg), index=_idx + 1, columns=_idx + 1)\\\n",
    "    .pipe(lambda x: x.loc[(x != 0).any(axis=0), (x != 0).any(axis=1)])\n",
    "mat"
   ]
  },
  {
   "cell_type": "code",
   "execution_count": null,
   "metadata": {},
   "outputs": [],
   "source": [
    "Kgl = np.diag(GLg) @ Kg @ np.diag(GLg)"
   ]
  },
  {
   "cell_type": "code",
   "execution_count": null,
   "metadata": {},
   "outputs": [
    {
     "ename": "NameError",
     "evalue": "name 'np' is not defined",
     "output_type": "error",
     "traceback": [
      "\u001b[0;31m---------------------------------------------------------------------------\u001b[0m",
      "\u001b[0;31mNameError\u001b[0m                                 Traceback (most recent call last)",
      "\u001b[1;32m/home/rml/Development/metodo-matricial/examen/ejercicio 1.ipynb Cell 14\u001b[0m line \u001b[0;36m1\n\u001b[0;32m----> <a href='vscode-notebook-cell:/home/rml/Development/metodo-matricial/examen/ejercicio%201.ipynb#X30sZmlsZQ%3D%3D?line=0'>1</a>\u001b[0m Q \u001b[39m=\u001b[39m np\u001b[39m.\u001b[39mzeros(S\u001b[39m.\u001b[39msize)\n",
      "\u001b[0;31mNameError\u001b[0m: name 'np' is not defined"
     ]
    }
   ],
   "source": [
    "Q = np.zeros(S.size)"
   ]
  },
  {
   "cell_type": "code",
   "execution_count": null,
   "metadata": {},
   "outputs": [
    {
     "data": {
      "text/html": [
       "<div>\n",
       "<style scoped>\n",
       "    .dataframe tbody tr th:only-of-type {\n",
       "        vertical-align: middle;\n",
       "    }\n",
       "\n",
       "    .dataframe tbody tr th {\n",
       "        vertical-align: top;\n",
       "    }\n",
       "\n",
       "    .dataframe thead th {\n",
       "        text-align: right;\n",
       "    }\n",
       "</style>\n",
       "<table border=\"1\" class=\"dataframe\">\n",
       "  <thead>\n",
       "    <tr style=\"text-align: right;\">\n",
       "      <th></th>\n",
       "      <th>0</th>\n",
       "    </tr>\n",
       "  </thead>\n",
       "  <tbody>\n",
       "    <tr>\n",
       "      <th>3</th>\n",
       "      <td>-0.181</td>\n",
       "    </tr>\n",
       "    <tr>\n",
       "      <th>4</th>\n",
       "      <td>0.400</td>\n",
       "    </tr>\n",
       "    <tr>\n",
       "      <th>5</th>\n",
       "      <td>0.001</td>\n",
       "    </tr>\n",
       "    <tr>\n",
       "      <th>6</th>\n",
       "      <td>-0.038</td>\n",
       "    </tr>\n",
       "    <tr>\n",
       "      <th>7</th>\n",
       "      <td>0.398</td>\n",
       "    </tr>\n",
       "    <tr>\n",
       "      <th>8</th>\n",
       "      <td>-0.001</td>\n",
       "    </tr>\n",
       "    <tr>\n",
       "      <th>9</th>\n",
       "      <td>-0.047</td>\n",
       "    </tr>\n",
       "  </tbody>\n",
       "</table>\n",
       "</div>"
      ],
      "text/plain": [
       "       0\n",
       "3 -0.181\n",
       "4  0.400\n",
       "5  0.001\n",
       "6 -0.038\n",
       "7  0.398\n",
       "8 -0.001\n",
       "9 -0.047"
      ]
     },
     "execution_count": 69,
     "metadata": {},
     "output_type": "execute_result"
    }
   ],
   "source": [
    "d = np.linalg.inv(Kgl[np.any(Kgl, axis=0)][:, np.any(Kgl, axis=1)]) @ Q\n",
    "pd.DataFrame(d, index=_idx[S.ravel() != 0]+1)"
   ]
  },
  {
   "cell_type": "code",
   "execution_count": null,
   "metadata": {},
   "outputs": [
    {
     "data": {
      "text/html": [
       "<div>\n",
       "<style scoped>\n",
       "    .dataframe tbody tr th:only-of-type {\n",
       "        vertical-align: middle;\n",
       "    }\n",
       "\n",
       "    .dataframe tbody tr th {\n",
       "        vertical-align: top;\n",
       "    }\n",
       "\n",
       "    .dataframe thead th {\n",
       "        text-align: right;\n",
       "    }\n",
       "</style>\n",
       "<table border=\"1\" class=\"dataframe\">\n",
       "  <thead>\n",
       "    <tr style=\"text-align: right;\">\n",
       "      <th></th>\n",
       "      <th>0</th>\n",
       "    </tr>\n",
       "  </thead>\n",
       "  <tbody>\n",
       "    <tr>\n",
       "      <th>7</th>\n",
       "      <td>770.501</td>\n",
       "    </tr>\n",
       "    <tr>\n",
       "      <th>8</th>\n",
       "      <td>-534.362</td>\n",
       "    </tr>\n",
       "    <tr>\n",
       "      <th>9</th>\n",
       "      <td>1383.312</td>\n",
       "    </tr>\n",
       "    <tr>\n",
       "      <th>10</th>\n",
       "      <td>-770.501</td>\n",
       "    </tr>\n",
       "    <tr>\n",
       "      <th>11</th>\n",
       "      <td>534.362</td>\n",
       "    </tr>\n",
       "    <tr>\n",
       "      <th>12</th>\n",
       "      <td>1698.692</td>\n",
       "    </tr>\n",
       "  </tbody>\n",
       "</table>\n",
       "</div>"
      ],
      "text/plain": [
       "          0\n",
       "7   770.501\n",
       "8  -534.362\n",
       "9  1383.312\n",
       "10 -770.501\n",
       "11  534.362\n",
       "12 1698.692"
      ]
     },
     "execution_count": 116,
     "metadata": {},
     "output_type": "execute_result"
    }
   ],
   "source": [
    "n = 2\n",
    "\n",
    "dg = np.zeros(shape = (Kgl.shape[0], 1))\n",
    "dg[np.where(S.ravel() != 0)] = d\n",
    "K_ = np.zeros_like(Kgl)\n",
    "K_[*np.meshgrid(G_idx[n], G_idx[n])] += Kt[n]\n",
    "res_n = K_ @ dg\n",
    "pd.DataFrame(res_n[G_idx[n]], index=np.where(res_n != 0)[0]+1)"
   ]
  },
  {
   "cell_type": "code",
   "execution_count": null,
   "metadata": {},
   "outputs": [
    {
     "data": {
      "image/png": "[encoded data removed]",
      "text/plain": [
       "<Figure size 640x480 with 1 Axes>"
      ]
     },
     "metadata": {},
     "output_type": "display_data"
    }
   ],
   "source": [
    "fig, ax = plt.subplots()\n",
    "plot_vectors(C[B] ,ax=ax, margin=1)\n",
    "draw_points(C, ax=ax)\n",
    "plt.show()"
   ]
  },
  {
   "cell_type": "code",
   "execution_count": null,
   "metadata": {},
   "outputs": [],
   "source": [
    "def draw_gdl(C, gdl, ax=None):\n",
    "    \"\"\"\n",
    "    Draw vectors (vertical, horizontal, and moment) based on coordinates and degrees of freedom.\n",
    "\n",
    "    Parameters:\n",
    "    - C: numpy array of shape (n, 2)\n",
    "        Array representing n points, where each point is defined by its x and y coordinates.\n",
    "    - gdl: numpy array of shape (n, 3)\n",
    "        Array representing n degrees of freedom for each point, where each row is [vertical, horizontal, moment].\n",
    "    - ax: matplotlib.axes._subplots.AxesSubplot, optional\n",
    "        Axes on which to draw the vectors. If not specified, a new figure and axes will be created.\n",
    "\n",
    "    Returns:\n",
    "    - ax: matplotlib.axes._subplots.AxesSubplot\n",
    "        The AxesSubplot object on which the vectors are drawn.\n",
    "    \"\"\"\n",
    "    if ax is None:\n",
    "        fig, ax = plt.subplots()\n",
    "\n",
    "    # Dibujar puntos\n",
    "    draw_points(C, ax)\n",
    "\n",
    "    for i, (x, y) in enumerate(C):\n",
    "        # Dibujar vector vertical\n",
    "        ax.quiver(x, y, 0, gdl[i, 0], angles='xy', scale_units='xy', scale=1, color='r', label=f'Vertical {i + 1}')\n",
    "\n",
    "        # Dibujar vector horizontal\n",
    "        ax.quiver(x, y, gdl[i, 1], 0, angles='xy', scale_units='xy', scale=1, color='g', label=f'Horizontal {i + 1}')\n",
    "\n",
    "        # Dibujar momento (vector circular)\n",
    "        moment_mag = 0.1  # Magnitud del momento para visualización\n",
    "        ax.quiver(x, y, -gdl[i, 2] * moment_mag, gdl[i, 2] * moment_mag, angles='xy', scale_units='xy', scale=1, color='b', label=f'Moment {i + 1}')\n",
    "\n",
    "    ax.legend()\n",
    "    return ax"
   ]
  },
  {
   "cell_type": "code",
   "execution_count": null,
   "metadata": {},
   "outputs": [],
   "source": [
    "Kk = pd.DataFrame(np.diag(GLg) @ Kg @ np.diag(GLg), index=_idx + 1, columns=_idx + 1)\\\n",
    "    .pipe(lambda x: x.loc[(x != 0).any(axis=0), (x != 0).any(axis=1)]).values"
   ]
  },
  {
   "cell_type": "code",
   "execution_count": null,
   "metadata": {},
   "outputs": [],
   "source": [
    "Q = np.array([-28.206,\n",
    "53.730,\n",
    "71.639,\n",
    "-16.327,\n",
    "53.730,\n",
    "0.000,\n",
    "2.683,\n",
    "53.730,\n",
    "4.633,\n",
    "-3.983,\n",
    "])"
   ]
  },
  {
   "cell_type": "markdown",
   "metadata": {},
   "source": [
    "# Fórmulas\n",
    "\n",
    "$$ Q = q - MEF $$\n",
    "\n",
    "* Desplazamientos\n",
    "$$ d = Q \\times K $$\n",
    "\n",
    "* Momentos"
   ]
  }
 ],
 "metadata": {
  "kernelspec": {
   "display_name": "Python 3",
   "language": "python",
   "name": "python3"
  },
  "language_info": {
   "codemirror_mode": {
    "name": "ipython",
    "version": 3
   },
   "file_extension": ".py",
   "mimetype": "text/x-python",
   "name": "python",
   "nbconvert_exporter": "python",
   "pygments_lexer": "ipython3",
   "version": "3.11.5"
  }
 },
 "nbformat": 4,
 "nbformat_minor": 2
}
