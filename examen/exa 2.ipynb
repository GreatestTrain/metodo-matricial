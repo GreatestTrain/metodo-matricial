{
 "cells": [
  {
   "cell_type": "code",
   "execution_count": 76,
   "metadata": {},
   "outputs": [],
   "source": [
    "import numpy as np\n",
    "from numpy import sin, cos\n",
    "\n",
    "from itertools import product\n",
    "import matplotlib.pyplot as plt\n",
    "\n",
    "def stiffness_armor(E, A, L):\n",
    "    k = E * A / L * np.array([[1, -1], [-1, 1]])\n",
    "    return k\n",
    "\n",
    "def stiffness_beam(E, I, L, c=1):\n",
    "    k = E*I * np.array([\n",
    "        [ 12/L**3,  6/L**2, -12/L**3,  6/L**2],\n",
    "        [  6/L**2,  4/L   ,  -6/L**2,  2/L   ],\n",
    "        [-12/L**3, -6/L**2,  12/L**3, -6/L**2],\n",
    "        [  6/L**2,  2/L   ,  -6/L**2,  4/L   ]  \n",
    "    ])\n",
    "    # positivo antihorario\n",
    "    return k\n",
    "    \n",
    "def stiffness_2d(E, A, I, L, c=1):\n",
    "    k = np.zeros((6,6))\n",
    "\n",
    "    k[*np.meshgrid([0,3], [0,3])] = stiffness_armor(E, A, L)\n",
    "    k[*np.meshgrid([1,2,4,5], [1,2,4,5])] = stiffness_beam(E, I, L, c)\n",
    "\n",
    "    return k\n",
    "\n",
    "def rot_armor(alpha):\n",
    "    t = np.array([\n",
    "        [ cos(alpha), sin(alpha)],\n",
    "        [-sin(alpha), cos(alpha)]\n",
    "    ])\n",
    "    kr = np.kron(np.eye(2), t)\n",
    "    return kr\n",
    "\n",
    "def rot_2d(alpha):\n",
    "    t = np.array([\n",
    "        [ cos(alpha), sin(alpha), 0],\n",
    "        [-sin(alpha), cos(alpha), 0],\n",
    "        [          0,          0, 1]\n",
    "    ])\n",
    "    kr = np.kron(np.eye(2), t)\n",
    "    return kr\n",
    "\n",
    "def rot_armor(alpha):\n",
    "    t = np.array([\n",
    "        [ cos(alpha), sin(alpha)],\n",
    "        [-sin(alpha), cos(alpha) ],\n",
    "    ])\n",
    "    kr = np.kron(np.eye(2), t)\n",
    "    return kr\n",
    "\n",
    "def rot_beam(alpha):\n",
    "    t = np.array([\n",
    "        [cos(alpha), 0],\n",
    "        [0         , 1],\n",
    "    ])\n",
    "    kr = np.kron(np.eye(2), t)\n",
    "    return kr\n",
    "\n",
    "def plot_vectors(vectors, ax=None, margin=0.1):\n",
    "    \"\"\"\n",
    "    Plot vectors from a given matrix.\n",
    "\n",
    "    Parameters:\n",
    "    - vectors: numpy array of shape (n, 2, 2)\n",
    "        Matrix representing n vectors, where each vector is defined by its start and end points.\n",
    "    - ax: matplotlib.axes._subplots.AxesSubplot, optional\n",
    "        Axes on which to plot the vectors. If not specified, a new figure and axes will be created.\n",
    "\n",
    "    Returns:\n",
    "    - ax: matplotlib.axes._subplots.AxesSubplot\n",
    "        The AxesSubplot object on which the vectors are plotted.\n",
    "    \"\"\"\n",
    "    if ax is None:\n",
    "        fig, ax = plt.subplots()\n",
    "\n",
    "    for vector in vectors:\n",
    "        start_point, end_point = vector[0], vector[1]\n",
    "        ax.quiver(start_point[0], start_point[1], end_point[0] - start_point[0], end_point[1] - start_point[1], angles='xy', scale_units='xy', scale=1, color='b')\n",
    "\n",
    "    ax.set_aspect('equal', 'box')\n",
    "    x_min = vectors[:,:,0].min() - margin\n",
    "    x_max = vectors[:,:,0].max() + margin\n",
    "    y_min = vectors[:,:,1].min() - margin\n",
    "    y_max = vectors[:,:,1].max() + margin\n",
    "    ax.set_xlim([min(x_min, 0), x_max])\n",
    "    ax.set_ylim([min(y_min, 0), y_max])\n",
    "    #ax.set_xlim([min(vectors[:,:,0].min(), 0), max(vectors[:,:,0].max(), 0)])\n",
    "    #ax.set_ylim([min(vectors[:,:,1].min(), 0), max(vectors[:,:,1].max(), 0)])\n",
    "    ax.grid(False)\n",
    "    ax.set_axis_off()\n",
    "    ax.axhline(0, color='black', linewidth=0.5)\n",
    "    ax.axvline(0, color='black', linewidth=0.5)\n",
    "    ax.set_xlabel('X')\n",
    "    ax.set_ylabel('Y')\n",
    "    ax.set_title('Vectors Plot')\n",
    "\n",
    "    return ax\n",
    "import matplotlib.pyplot as plt\n",
    "\n",
    "def draw_points(coordinates, ax=None):\n",
    "    \"\"\"\n",
    "    Draw points on a plot and label them with their coordinates.\n",
    "\n",
    "    Parameters:\n",
    "    - coordinates: numpy array of shape (n, 2)\n",
    "        Array representing n points, where each point is defined by its x and y coordinates.\n",
    "    - ax: matplotlib.axes._subplots.AxesSubplot, optional\n",
    "        Axes on which to draw the points. If not specified, a new figure and axes will be created.\n",
    "\n",
    "    Returns:\n",
    "    - ax: matplotlib.axes._subplots.AxesSubplot\n",
    "        The AxesSubplot object on which the points are drawn.\n",
    "    \"\"\"\n",
    "    if ax is None:\n",
    "        fig, ax = plt.subplots()\n",
    "\n",
    "    for i, (x, y) in enumerate(coordinates):\n",
    "        ax.scatter(x, y, label=f'Point {i + 1}')\n",
    "        ax.text(x, y, f'({x}, {y})', fontsize=8, ha='right', va='bottom')\n",
    "\n",
    "    ax.set_aspect('equal', 'box')\n",
    "    ax.grid(False)  # Desactivar la cuadrícula\n",
    "    ax.set_xlabel('X')\n",
    "    ax.set_ylabel('Y')\n",
    "    ax.set_title('Points Plot')\n",
    "    ax.legend()\n",
    "\n",
    "    return ax"
   ]
  },
  {
   "cell_type": "code",
   "execution_count": 77,
   "metadata": {},
   "outputs": [],
   "source": [
    "import numpy as np\n",
    "import pandas as pd"
   ]
  },
  {
   "cell_type": "code",
   "execution_count": 78,
   "metadata": {},
   "outputs": [],
   "source": [
    "#inf = np.finfo(np.float32).max\n",
    "inf = 1_000_000\n",
    "lit = 0.000001"
   ]
  },
  {
   "cell_type": "code",
   "execution_count": 79,
   "metadata": {},
   "outputs": [],
   "source": [
    "C = np.array([\n",
    "    [0,0],\n",
    "    [0,4],\n",
    "    [6,4],\n",
    "    [0,8],\n",
    "    [9,8]\n",
    "])\n",
    "assert np.shape(C)[1] == 2, \"Las coordenadas se componen de 2 valores.\""
   ]
  },
  {
   "cell_type": "code",
   "execution_count": 80,
   "metadata": {},
   "outputs": [],
   "source": [
    "S = np.array([\n",
    "    [0,0,0],\n",
    "    [1,1,1],\n",
    "    [1,1,1],\n",
    "    [0,0,1],\n",
    "    [0,0,0]\n",
    "])\n",
    "assert np.shape(S)[1] == 3, \"La matriz S debe estar compuesta de 3 columnas.\"\n",
    "assert np.shape(S)[0] == np.shape(C)[0], \"La matriz S y la matriz C deben tener la misma forma.\""
   ]
  },
  {
   "cell_type": "code",
   "execution_count": 81,
   "metadata": {},
   "outputs": [],
   "source": [
    "B = np.array([\n",
    "    [1,2],\n",
    "    [2,3],\n",
    "    [3,4],\n",
    "    [3,5],\n",
    "]) - 1\n",
    "#assert np.shape(B)[1] == 2, \"Las barras deben estar definidas por dos puntos\""
   ]
  },
  {
   "cell_type": "code",
   "execution_count": 82,
   "metadata": {},
   "outputs": [],
   "source": [
    "EAI = np.array([\n",
    "    [1, inf, 1],\n",
    "    [1, inf, 1],\n",
    "    [1, 1, lit],\n",
    "    [1, inf, 1],\n",
    "])"
   ]
  },
  {
   "cell_type": "code",
   "execution_count": 83,
   "metadata": {},
   "outputs": [],
   "source": [
    "L = np.linalg.norm(np.diff(C[B], axis=1), axis=2)\n",
    "with np.errstate(divide='ignore'):\n",
    "    alpha = np.arctan(np.divide(*(np.diff(C[B], axis=1).squeeze().T[::-1])))\n",
    "np.rad2deg(alpha)\n",
    "EAIL = np.hstack([EAI, L])"
   ]
  },
  {
   "cell_type": "code",
   "execution_count": 120,
   "metadata": {},
   "outputs": [],
   "source": [
    "with np.errstate(divide='ignore', ):    \n",
    "    Ki = []\n",
    "    A = []\n",
    "    Kt = []\n",
    "    for el, t in zip(EAIL, alpha):\n",
    "        Ki.append(stiffness_2d(*el))\n",
    "        A.append(rot_2d(t))\n",
    "        Kt.append(A[-1].T @ Ki[-1] @ A[-1])\n",
    "    Ki = np.array(Ki)\n",
    "    A = np.array(A)\n",
    "    Kt = np.array(Kt)"
   ]
  },
  {
   "cell_type": "code",
   "execution_count": 85,
   "metadata": {},
   "outputs": [],
   "source": [
    "def format(value) -> str:\n",
    "    #if np.abs(value) > 10000:\n",
    "    #    return 'inf'\n",
    "    return value.format\n",
    "\n",
    "pd.options.display.float_format = '{:.5F}'.format"
   ]
  },
  {
   "cell_type": "code",
   "execution_count": 86,
   "metadata": {},
   "outputs": [
    {
     "data": {
      "text/plain": [
       "((15, 15), (15,))"
      ]
     },
     "execution_count": 86,
     "metadata": {},
     "output_type": "execute_result"
    }
   ],
   "source": [
    "Kg = np.zeros(shape=(S.size,S.size))\n",
    "GLg = np.zeros(shape=(S.size, 1))\n",
    "_idx = np.arange(0, S.size)\n",
    "G_idx = _idx.reshape(len(S), -1)[B].reshape(-1, 6)\n",
    "for idx, Ki, GL in zip(G_idx, Kt, S[B]):\n",
    "    Kg[*np.meshgrid(idx, idx)] += Ki\n",
    "    # GLg[idx] += GL.ravel()\n",
    "GLg = S.ravel()\n",
    "Kg.shape, GLg.shape"
   ]
  },
  {
   "cell_type": "code",
   "execution_count": 87,
   "metadata": {},
   "outputs": [
    {
     "data": {
      "text/plain": [
       "array([0, 0, 0, 1, 1, 1, 1, 1, 1, 0, 0, 1, 0, 0, 0])"
      ]
     },
     "execution_count": 87,
     "metadata": {},
     "output_type": "execute_result"
    }
   ],
   "source": [
    "S.ravel()"
   ]
  },
  {
   "cell_type": "code",
   "execution_count": 88,
   "metadata": {},
   "outputs": [
    {
     "data": {
      "text/html": [
       "<div>\n",
       "<style scoped>\n",
       "    .dataframe tbody tr th:only-of-type {\n",
       "        vertical-align: middle;\n",
       "    }\n",
       "\n",
       "    .dataframe tbody tr th {\n",
       "        vertical-align: top;\n",
       "    }\n",
       "\n",
       "    .dataframe thead th {\n",
       "        text-align: right;\n",
       "    }\n",
       "</style>\n",
       "<table border=\"1\" class=\"dataframe\">\n",
       "  <thead>\n",
       "    <tr style=\"text-align: right;\">\n",
       "      <th></th>\n",
       "      <th>4</th>\n",
       "      <th>5</th>\n",
       "      <th>6</th>\n",
       "      <th>7</th>\n",
       "      <th>8</th>\n",
       "      <th>9</th>\n",
       "      <th>12</th>\n",
       "    </tr>\n",
       "  </thead>\n",
       "  <tbody>\n",
       "    <tr>\n",
       "      <th>4</th>\n",
       "      <td>166666.85417</td>\n",
       "      <td>0.00000</td>\n",
       "      <td>0.37500</td>\n",
       "      <td>-166666.66667</td>\n",
       "      <td>0.00000</td>\n",
       "      <td>0.00000</td>\n",
       "      <td>0.00000</td>\n",
       "    </tr>\n",
       "    <tr>\n",
       "      <th>5</th>\n",
       "      <td>0.00000</td>\n",
       "      <td>250000.05556</td>\n",
       "      <td>0.16667</td>\n",
       "      <td>0.00000</td>\n",
       "      <td>-0.05556</td>\n",
       "      <td>0.16667</td>\n",
       "      <td>0.00000</td>\n",
       "    </tr>\n",
       "    <tr>\n",
       "      <th>6</th>\n",
       "      <td>0.37500</td>\n",
       "      <td>0.16667</td>\n",
       "      <td>1.66667</td>\n",
       "      <td>0.00000</td>\n",
       "      <td>-0.16667</td>\n",
       "      <td>0.33333</td>\n",
       "      <td>0.00000</td>\n",
       "    </tr>\n",
       "    <tr>\n",
       "      <th>7</th>\n",
       "      <td>-166666.66667</td>\n",
       "      <td>0.00000</td>\n",
       "      <td>0.00000</td>\n",
       "      <td>238666.82411</td>\n",
       "      <td>95999.88992</td>\n",
       "      <td>-0.19200</td>\n",
       "      <td>0.00000</td>\n",
       "    </tr>\n",
       "    <tr>\n",
       "      <th>8</th>\n",
       "      <td>0.00000</td>\n",
       "      <td>-0.05556</td>\n",
       "      <td>-0.16667</td>\n",
       "      <td>95999.88992</td>\n",
       "      <td>128000.13278</td>\n",
       "      <td>-0.02267</td>\n",
       "      <td>0.00000</td>\n",
       "    </tr>\n",
       "    <tr>\n",
       "      <th>9</th>\n",
       "      <td>0.00000</td>\n",
       "      <td>0.16667</td>\n",
       "      <td>0.33333</td>\n",
       "      <td>-0.19200</td>\n",
       "      <td>-0.02267</td>\n",
       "      <td>1.46667</td>\n",
       "      <td>0.00000</td>\n",
       "    </tr>\n",
       "    <tr>\n",
       "      <th>12</th>\n",
       "      <td>0.00000</td>\n",
       "      <td>0.00000</td>\n",
       "      <td>0.00000</td>\n",
       "      <td>0.00000</td>\n",
       "      <td>0.00000</td>\n",
       "      <td>0.00000</td>\n",
       "      <td>0.00000</td>\n",
       "    </tr>\n",
       "  </tbody>\n",
       "</table>\n",
       "</div>"
      ],
      "text/plain": [
       "              4            5        6             7            8        9   \\\n",
       "4   166666.85417      0.00000  0.37500 -166666.66667      0.00000  0.00000   \n",
       "5        0.00000 250000.05556  0.16667       0.00000     -0.05556  0.16667   \n",
       "6        0.37500      0.16667  1.66667       0.00000     -0.16667  0.33333   \n",
       "7  -166666.66667      0.00000  0.00000  238666.82411  95999.88992 -0.19200   \n",
       "8        0.00000     -0.05556 -0.16667   95999.88992 128000.13278 -0.02267   \n",
       "9        0.00000      0.16667  0.33333      -0.19200     -0.02267  1.46667   \n",
       "12       0.00000      0.00000  0.00000       0.00000      0.00000  0.00000   \n",
       "\n",
       "        12  \n",
       "4  0.00000  \n",
       "5  0.00000  \n",
       "6  0.00000  \n",
       "7  0.00000  \n",
       "8  0.00000  \n",
       "9  0.00000  \n",
       "12 0.00000  "
      ]
     },
     "execution_count": 88,
     "metadata": {},
     "output_type": "execute_result"
    }
   ],
   "source": [
    "mat = pd.DataFrame(np.diag(GLg) @ Kg @ np.diag(GLg), index=_idx+1, columns=_idx+1)\\\n",
    "    .pipe(lambda x: x.iloc[*(np.where(S.ravel() != 0)*2)])\n",
    "mat"
   ]
  },
  {
   "cell_type": "code",
   "execution_count": 89,
   "metadata": {},
   "outputs": [
    {
     "data": {
      "text/html": [
       "<div>\n",
       "<style scoped>\n",
       "    .dataframe tbody tr th:only-of-type {\n",
       "        vertical-align: middle;\n",
       "    }\n",
       "\n",
       "    .dataframe tbody tr th {\n",
       "        vertical-align: top;\n",
       "    }\n",
       "\n",
       "    .dataframe thead th {\n",
       "        text-align: right;\n",
       "    }\n",
       "</style>\n",
       "<table border=\"1\" class=\"dataframe\">\n",
       "  <thead>\n",
       "    <tr style=\"text-align: right;\">\n",
       "      <th></th>\n",
       "      <th>4</th>\n",
       "      <th>5</th>\n",
       "      <th>6</th>\n",
       "      <th>7</th>\n",
       "      <th>8</th>\n",
       "      <th>9</th>\n",
       "    </tr>\n",
       "  </thead>\n",
       "  <tbody>\n",
       "    <tr>\n",
       "      <th>4</th>\n",
       "      <td>166666.85417</td>\n",
       "      <td>0.00000</td>\n",
       "      <td>0.37500</td>\n",
       "      <td>-166666.66667</td>\n",
       "      <td>0.00000</td>\n",
       "      <td>0.00000</td>\n",
       "    </tr>\n",
       "    <tr>\n",
       "      <th>5</th>\n",
       "      <td>0.00000</td>\n",
       "      <td>250000.05556</td>\n",
       "      <td>0.16667</td>\n",
       "      <td>0.00000</td>\n",
       "      <td>-0.05556</td>\n",
       "      <td>0.16667</td>\n",
       "    </tr>\n",
       "    <tr>\n",
       "      <th>6</th>\n",
       "      <td>0.37500</td>\n",
       "      <td>0.16667</td>\n",
       "      <td>1.66667</td>\n",
       "      <td>0.00000</td>\n",
       "      <td>-0.16667</td>\n",
       "      <td>0.33333</td>\n",
       "    </tr>\n",
       "    <tr>\n",
       "      <th>7</th>\n",
       "      <td>-166666.66667</td>\n",
       "      <td>0.00000</td>\n",
       "      <td>0.00000</td>\n",
       "      <td>238666.82411</td>\n",
       "      <td>95999.88992</td>\n",
       "      <td>-0.19200</td>\n",
       "    </tr>\n",
       "    <tr>\n",
       "      <th>8</th>\n",
       "      <td>0.00000</td>\n",
       "      <td>-0.05556</td>\n",
       "      <td>-0.16667</td>\n",
       "      <td>95999.88992</td>\n",
       "      <td>128000.13278</td>\n",
       "      <td>-0.02267</td>\n",
       "    </tr>\n",
       "    <tr>\n",
       "      <th>9</th>\n",
       "      <td>0.00000</td>\n",
       "      <td>0.16667</td>\n",
       "      <td>0.33333</td>\n",
       "      <td>-0.19200</td>\n",
       "      <td>-0.02267</td>\n",
       "      <td>1.46667</td>\n",
       "    </tr>\n",
       "  </tbody>\n",
       "</table>\n",
       "</div>"
      ],
      "text/plain": [
       "              4            5        6             7            8        9\n",
       "4  166666.85417      0.00000  0.37500 -166666.66667      0.00000  0.00000\n",
       "5       0.00000 250000.05556  0.16667       0.00000     -0.05556  0.16667\n",
       "6       0.37500      0.16667  1.66667       0.00000     -0.16667  0.33333\n",
       "7 -166666.66667      0.00000  0.00000  238666.82411  95999.88992 -0.19200\n",
       "8       0.00000     -0.05556 -0.16667   95999.88992 128000.13278 -0.02267\n",
       "9       0.00000      0.16667  0.33333      -0.19200     -0.02267  1.46667"
      ]
     },
     "execution_count": 89,
     "metadata": {},
     "output_type": "execute_result"
    }
   ],
   "source": [
    "mat = pd.DataFrame(np.diag(GLg) @ Kg @ np.diag(GLg), index=_idx+1, columns=_idx+1)\\\n",
    "    .pipe(lambda x: x.loc[(x > lit*5).any(axis=0), (x > lit*5).any(axis=1)])\n",
    "mat"
   ]
  },
  {
   "cell_type": "code",
   "execution_count": 90,
   "metadata": {},
   "outputs": [
    {
     "data": {
      "text/plain": [
       "array([[ 29.923],\n",
       "       [  0.   ],\n",
       "       [-16.438],\n",
       "       [ 29.923],\n",
       "       [-22.442],\n",
       "       [  7.306]])"
      ]
     },
     "execution_count": 90,
     "metadata": {},
     "output_type": "execute_result"
    }
   ],
   "source": [
    "np.set_printoptions(precision=3, suppress=True)\n",
    "np.linalg.inv(mat.values) @ np.array([\n",
    "    [0],\n",
    "    [0],\n",
    "    [-10],\n",
    "    [8],\n",
    "    [0],\n",
    "    [0],\n",
    "])\n"
   ]
  },
  {
   "cell_type": "code",
   "execution_count": 91,
   "metadata": {},
   "outputs": [],
   "source": [
    "Kgl = np.diag(GLg) @ Kg @ np.diag(GLg)"
   ]
  },
  {
   "cell_type": "code",
   "execution_count": 92,
   "metadata": {},
   "outputs": [
    {
     "data": {
      "text/plain": [
       "array([[  0.],\n",
       "       [  0.],\n",
       "       [-10.],\n",
       "       [  8.],\n",
       "       [  0.],\n",
       "       [  0.],\n",
       "       [  0.]])"
      ]
     },
     "execution_count": 92,
     "metadata": {},
     "output_type": "execute_result"
    }
   ],
   "source": [
    "Q = np.zeros((7,1))\n",
    "Q[2] = -10\n",
    "Q[3] = 8\n",
    "Q = Q.reshape(-1, 1)\n",
    "Q"
   ]
  },
  {
   "cell_type": "code",
   "execution_count": 93,
   "metadata": {},
   "outputs": [
    {
     "data": {
      "text/html": [
       "<div>\n",
       "<style scoped>\n",
       "    .dataframe tbody tr th:only-of-type {\n",
       "        vertical-align: middle;\n",
       "    }\n",
       "\n",
       "    .dataframe tbody tr th {\n",
       "        vertical-align: top;\n",
       "    }\n",
       "\n",
       "    .dataframe thead th {\n",
       "        text-align: right;\n",
       "    }\n",
       "</style>\n",
       "<table border=\"1\" class=\"dataframe\">\n",
       "  <thead>\n",
       "    <tr style=\"text-align: right;\">\n",
       "      <th></th>\n",
       "      <th>0</th>\n",
       "    </tr>\n",
       "  </thead>\n",
       "  <tbody>\n",
       "    <tr>\n",
       "      <th>4</th>\n",
       "      <td>29.92254</td>\n",
       "    </tr>\n",
       "    <tr>\n",
       "      <th>5</th>\n",
       "      <td>0.00000</td>\n",
       "    </tr>\n",
       "    <tr>\n",
       "      <th>6</th>\n",
       "      <td>-16.43800</td>\n",
       "    </tr>\n",
       "    <tr>\n",
       "      <th>7</th>\n",
       "      <td>29.92253</td>\n",
       "    </tr>\n",
       "    <tr>\n",
       "      <th>8</th>\n",
       "      <td>-22.44187</td>\n",
       "    </tr>\n",
       "    <tr>\n",
       "      <th>9</th>\n",
       "      <td>7.30621</td>\n",
       "    </tr>\n",
       "    <tr>\n",
       "      <th>12</th>\n",
       "      <td>-3.22153</td>\n",
       "    </tr>\n",
       "  </tbody>\n",
       "</table>\n",
       "</div>"
      ],
      "text/plain": [
       "           0\n",
       "4   29.92254\n",
       "5    0.00000\n",
       "6  -16.43800\n",
       "7   29.92253\n",
       "8  -22.44187\n",
       "9    7.30621\n",
       "12  -3.22153"
      ]
     },
     "execution_count": 93,
     "metadata": {},
     "output_type": "execute_result"
    }
   ],
   "source": [
    "d = np.linalg.inv(Kgl[np.any(Kgl, axis=0)][:, np.any(Kgl, axis=1)]) @ Q\n",
    "pd.DataFrame(d, index=_idx[S.ravel() != 0]+1)"
   ]
  },
  {
   "cell_type": "code",
   "execution_count": 126,
   "metadata": {},
   "outputs": [
    {
     "data": {
      "text/html": [
       "<div>\n",
       "<style scoped>\n",
       "    .dataframe tbody tr th:only-of-type {\n",
       "        vertical-align: middle;\n",
       "    }\n",
       "\n",
       "    .dataframe tbody tr th {\n",
       "        vertical-align: top;\n",
       "    }\n",
       "\n",
       "    .dataframe thead th {\n",
       "        text-align: right;\n",
       "    }\n",
       "</style>\n",
       "<table border=\"1\" class=\"dataframe\">\n",
       "  <thead>\n",
       "    <tr style=\"text-align: right;\">\n",
       "      <th></th>\n",
       "      <th>0</th>\n",
       "      <th>1</th>\n",
       "      <th>2</th>\n",
       "      <th>3</th>\n",
       "      <th>4</th>\n",
       "      <th>5</th>\n",
       "    </tr>\n",
       "  </thead>\n",
       "  <tbody>\n",
       "    <tr>\n",
       "      <th>0</th>\n",
       "      <td>250000.00000</td>\n",
       "      <td>0.00000</td>\n",
       "      <td>0.00000</td>\n",
       "      <td>-250000.00000</td>\n",
       "      <td>0.00000</td>\n",
       "      <td>0.00000</td>\n",
       "    </tr>\n",
       "    <tr>\n",
       "      <th>1</th>\n",
       "      <td>0.00000</td>\n",
       "      <td>0.18750</td>\n",
       "      <td>0.37500</td>\n",
       "      <td>0.00000</td>\n",
       "      <td>-0.18750</td>\n",
       "      <td>0.37500</td>\n",
       "    </tr>\n",
       "    <tr>\n",
       "      <th>2</th>\n",
       "      <td>0.00000</td>\n",
       "      <td>0.37500</td>\n",
       "      <td>1.00000</td>\n",
       "      <td>0.00000</td>\n",
       "      <td>-0.37500</td>\n",
       "      <td>0.50000</td>\n",
       "    </tr>\n",
       "    <tr>\n",
       "      <th>3</th>\n",
       "      <td>-250000.00000</td>\n",
       "      <td>0.00000</td>\n",
       "      <td>0.00000</td>\n",
       "      <td>250000.00000</td>\n",
       "      <td>0.00000</td>\n",
       "      <td>0.00000</td>\n",
       "    </tr>\n",
       "    <tr>\n",
       "      <th>4</th>\n",
       "      <td>0.00000</td>\n",
       "      <td>-0.18750</td>\n",
       "      <td>-0.37500</td>\n",
       "      <td>0.00000</td>\n",
       "      <td>0.18750</td>\n",
       "      <td>-0.37500</td>\n",
       "    </tr>\n",
       "    <tr>\n",
       "      <th>5</th>\n",
       "      <td>0.00000</td>\n",
       "      <td>0.37500</td>\n",
       "      <td>0.50000</td>\n",
       "      <td>0.00000</td>\n",
       "      <td>-0.37500</td>\n",
       "      <td>1.00000</td>\n",
       "    </tr>\n",
       "  </tbody>\n",
       "</table>\n",
       "</div>"
      ],
      "text/plain": [
       "              0        1        2             3        4        5\n",
       "0  250000.00000  0.00000  0.00000 -250000.00000  0.00000  0.00000\n",
       "1       0.00000  0.18750  0.37500       0.00000 -0.18750  0.37500\n",
       "2       0.00000  0.37500  1.00000       0.00000 -0.37500  0.50000\n",
       "3 -250000.00000  0.00000  0.00000  250000.00000  0.00000  0.00000\n",
       "4       0.00000 -0.18750 -0.37500       0.00000  0.18750 -0.37500\n",
       "5       0.00000  0.37500  0.50000       0.00000 -0.37500  1.00000"
      ]
     },
     "execution_count": 126,
     "metadata": {},
     "output_type": "execute_result"
    }
   ],
   "source": [
    "pd.DataFrame(Ki[0])"
   ]
  },
  {
   "cell_type": "code",
   "execution_count": null,
   "metadata": {},
   "outputs": [],
   "source": [
    "ri = []\n",
    "for i in range(len(B)):\n",
    "    ri.append()"
   ]
  },
  {
   "cell_type": "code",
   "execution_count": 135,
   "metadata": {},
   "outputs": [
    {
     "data": {
      "text/html": [
       "<div>\n",
       "<style scoped>\n",
       "    .dataframe tbody tr th:only-of-type {\n",
       "        vertical-align: middle;\n",
       "    }\n",
       "\n",
       "    .dataframe tbody tr th {\n",
       "        vertical-align: top;\n",
       "    }\n",
       "\n",
       "    .dataframe thead th {\n",
       "        text-align: right;\n",
       "    }\n",
       "</style>\n",
       "<table border=\"1\" class=\"dataframe\">\n",
       "  <thead>\n",
       "    <tr style=\"text-align: right;\">\n",
       "      <th></th>\n",
       "      <th>0</th>\n",
       "    </tr>\n",
       "  </thead>\n",
       "  <tbody>\n",
       "    <tr>\n",
       "      <th>7</th>\n",
       "      <td>1849934.06016</td>\n",
       "    </tr>\n",
       "    <tr>\n",
       "      <th>8</th>\n",
       "      <td>-2.55740</td>\n",
       "    </tr>\n",
       "    <tr>\n",
       "      <th>9</th>\n",
       "      <td>-5.80900</td>\n",
       "    </tr>\n",
       "    <tr>\n",
       "      <th>13</th>\n",
       "      <td>-1849934.06016</td>\n",
       "    </tr>\n",
       "    <tr>\n",
       "      <th>14</th>\n",
       "      <td>2.55740</td>\n",
       "    </tr>\n",
       "    <tr>\n",
       "      <th>15</th>\n",
       "      <td>-6.97799</td>\n",
       "    </tr>\n",
       "  </tbody>\n",
       "</table>\n",
       "</div>"
      ],
      "text/plain": [
       "                0\n",
       "7   1849934.06016\n",
       "8        -2.55740\n",
       "9        -5.80900\n",
       "13 -1849934.06016\n",
       "14        2.55740\n",
       "15       -6.97799"
      ]
     },
     "execution_count": 135,
     "metadata": {},
     "output_type": "execute_result"
    }
   ],
   "source": [
    "n = 3\n",
    "\n",
    "dg = np.zeros(shape = (Kgl.shape[0], 1))\n",
    "dg[np.where(S.ravel() != 0)] = d\n",
    "K_ = np.zeros_like(Kgl)\n",
    "K_[*np.meshgrid(G_idx[n], G_idx[n])] += Kt[n]\n",
    "res_n = K_ @ dg\n",
    "pd.DataFrame(Ki[n] @ (A[n] @ res_n[G_idx[n]]), index=np.where(res_n != 0)[0]+1)"
   ]
  },
  {
   "cell_type": "code",
   "execution_count": 121,
   "metadata": {},
   "outputs": [
    {
     "data": {
      "text/plain": [
       "(6, 6)"
      ]
     },
     "execution_count": 121,
     "metadata": {},
     "output_type": "execute_result"
    }
   ],
   "source": [
    "Ki[n].shape"
   ]
  },
  {
   "cell_type": "code",
   "execution_count": 95,
   "metadata": {},
   "outputs": [
    {
     "data": {
      "image/png": "[encoded data removed]",
      "text/plain": [
       "<Figure size 640x480 with 1 Axes>"
      ]
     },
     "metadata": {},
     "output_type": "display_data"
    }
   ],
   "source": [
    "fig, ax = plt.subplots()\n",
    "plot_vectors(C[B] ,ax=ax, margin=1)\n",
    "draw_points(C, ax=ax)\n",
    "plt.show()"
   ]
  },
  {
   "cell_type": "code",
   "execution_count": 96,
   "metadata": {},
   "outputs": [],
   "source": [
    "def draw_gdl(C, gdl, ax=None):\n",
    "    \"\"\"\n",
    "    Draw vectors (vertical, horizontal, and moment) based on coordinates and degrees of freedom.\n",
    "\n",
    "    Parameters:\n",
    "    - C: numpy array of shape (n, 2)\n",
    "        Array representing n points, where each point is defined by its x and y coordinates.\n",
    "    - gdl: numpy array of shape (n, 3)\n",
    "        Array representing n degrees of freedom for each point, where each row is [vertical, horizontal, moment].\n",
    "    - ax: matplotlib.axes._subplots.AxesSubplot, optional\n",
    "        Axes on which to draw the vectors. If not specified, a new figure and axes will be created.\n",
    "\n",
    "    Returns:\n",
    "    - ax: matplotlib.axes._subplots.AxesSubplot\n",
    "        The AxesSubplot object on which the vectors are drawn.\n",
    "    \"\"\"\n",
    "    if ax is None:\n",
    "        fig, ax = plt.subplots()\n",
    "\n",
    "    # Dibujar puntos\n",
    "    draw_points(C, ax)\n",
    "\n",
    "    for i, (x, y) in enumerate(C):\n",
    "        # Dibujar vector vertical\n",
    "        ax.quiver(x, y, 0, gdl[i, 0], angles='xy', scale_units='xy', scale=1, color='r', label=f'Vertical {i + 1}')\n",
    "\n",
    "        # Dibujar vector horizontal\n",
    "        ax.quiver(x, y, gdl[i, 1], 0, angles='xy', scale_units='xy', scale=1, color='g', label=f'Horizontal {i + 1}')\n",
    "\n",
    "        # Dibujar momento (vector circular)\n",
    "        moment_mag = 0.1  # Magnitud del momento para visualización\n",
    "        ax.quiver(x, y, -gdl[i, 2] * moment_mag, gdl[i, 2] * moment_mag, angles='xy', scale_units='xy', scale=1, color='b', label=f'Moment {i + 1}')\n",
    "\n",
    "    ax.legend()\n",
    "    return ax"
   ]
  },
  {
   "cell_type": "code",
   "execution_count": 97,
   "metadata": {},
   "outputs": [],
   "source": [
    "Kk = pd.DataFrame(np.diag(GLg) @ Kg @ np.diag(GLg), index=_idx + 1, columns=_idx + 1)\\\n",
    "    .pipe(lambda x: x.loc[(x != 0).any(axis=0), (x != 0).any(axis=1)]).values"
   ]
  },
  {
   "cell_type": "code",
   "execution_count": 98,
   "metadata": {},
   "outputs": [],
   "source": [
    "Q = np.array([-28.206,\n",
    "53.730,\n",
    "71.639,\n",
    "-16.327,\n",
    "53.730,\n",
    "0.000,\n",
    "2.683,\n",
    "53.730,\n",
    "4.633,\n",
    "-3.983,\n",
    "])"
   ]
  },
  {
   "cell_type": "markdown",
   "metadata": {},
   "source": [
    "# Fórmulas\n",
    "\n",
    "$$ Q = q - MEF $$\n",
    "\n",
    "* Desplazamientos\n",
    "$$ d = Q \\times K $$\n",
    "\n",
    "* Momentos"
   ]
  }
 ],
 "metadata": {
  "kernelspec": {
   "display_name": "Python 3",
   "language": "python",
   "name": "python3"
  },
  "language_info": {
   "codemirror_mode": {
    "name": "ipython",
    "version": 3
   },
   "file_extension": ".py",
   "mimetype": "text/x-python",
   "name": "python",
   "nbconvert_exporter": "python",
   "pygments_lexer": "ipython3",
   "version": "3.11.5"
  }
 },
 "nbformat": 4,
 "nbformat_minor": 2
}
