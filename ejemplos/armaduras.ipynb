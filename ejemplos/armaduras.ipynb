{
 "cells": [
  {
   "cell_type": "code",
   "execution_count": 1,
   "metadata": {},
   "outputs": [],
   "source": [
    "import numpy as np\n",
    "import pandas as pd\n",
    "from func import *\n",
    "\n",
    "inf = np.inf\n",
    "deg = np.deg2rad"
   ]
  },
  {
   "cell_type": "markdown",
   "metadata": {},
   "source": [
    "# Nodos"
   ]
  },
  {
   "cell_type": "code",
   "execution_count": 2,
   "metadata": {},
   "outputs": [],
   "source": [
    "# Coordenadas\n",
    "# |x|y|\n",
    "C = np.array([\n",
    "    [0,0],\n",
    "    [1,1],\n",
    "    [4,9],\n",
    "])\n",
    "assert np.shape(C)[1] == 2"
   ]
  },
  {
   "cell_type": "code",
   "execution_count": 3,
   "metadata": {},
   "outputs": [],
   "source": [
    "# Soportes\n",
    "# |x|y|\n",
    "S = np.array([\n",
    "    [0,1],\n",
    "    [0,1],\n",
    "    [1,1]\n",
    "])\n",
    "assert np.shape(S) == np.shape(C)"
   ]
  },
  {
   "cell_type": "markdown",
   "metadata": {},
   "source": [
    "# Barras"
   ]
  },
  {
   "cell_type": "code",
   "execution_count": 4,
   "metadata": {},
   "outputs": [],
   "source": [
    "# Puntos\n",
    "# |x|y|\n",
    "P = np.array([\n",
    "    [0,1],\n",
    "    [1,2],\n",
    "])\n",
    "assert np.shape(P)[1] == 2, \"Cada barra debe estar definida solo por 2 puntos.\""
   ]
  },
  {
   "cell_type": "code",
   "execution_count": 5,
   "metadata": {},
   "outputs": [
    {
     "data": {
      "text/plain": [
       "array([[1.41421356],\n",
       "       [8.54400375]])"
      ]
     },
     "execution_count": 5,
     "metadata": {},
     "output_type": "execute_result"
    }
   ],
   "source": [
    "# Longitudes\n",
    "L = np.linalg.norm(np.diff(C[P], axis=1), axis=2)\n",
    "L"
   ]
  },
  {
   "cell_type": "code",
   "execution_count": 6,
   "metadata": {},
   "outputs": [
    {
     "data": {
      "text/plain": [
       "array([0.78539816, 1.21202566])"
      ]
     },
     "execution_count": 6,
     "metadata": {},
     "output_type": "execute_result"
    }
   ],
   "source": [
    "# Ángulos directores\n",
    "alpha = np.arctan(np.divide(*(np.diff(C[P], axis=1).squeeze().T[::-1])))\n",
    "alpha"
   ]
  },
  {
   "cell_type": "code",
   "execution_count": 7,
   "metadata": {},
   "outputs": [],
   "source": [
    "# Modulo de elasticidad - Area\n",
    "# |E|A|\n",
    "EA = np.array([\n",
    "    [1, 2],\n",
    "    [2, 2],\n",
    "])\n",
    "assert np.shape(EA)[1] == 2, \"La matriz solo debe contener 2 valores por fila.\"\n",
    "assert np.shape(EA)[0] == np.shape(P)[0], \"No existe el número de barras.\""
   ]
  },
  {
   "cell_type": "code",
   "execution_count": 8,
   "metadata": {},
   "outputs": [
    {
     "data": {
      "text/plain": [
       "array([[ 1., -1.],\n",
       "       [-1.,  1.]])"
      ]
     },
     "execution_count": 8,
     "metadata": {},
     "output_type": "execute_result"
    }
   ],
   "source": [
    "stiffness_armor(1,1,1)"
   ]
  },
  {
   "cell_type": "code",
   "execution_count": 9,
   "metadata": {},
   "outputs": [
    {
     "ename": "NameError",
     "evalue": "name 'k' is not defined",
     "output_type": "error",
     "traceback": [
      "\u001b[0;31m---------------------------------------------------------------------------\u001b[0m",
      "\u001b[0;31mNameError\u001b[0m                                 Traceback (most recent call last)",
      "\u001b[1;32m/home/rml/Development/metodo-matricial/ejemplos/armaduras.ipynb Cell 11\u001b[0m line \u001b[0;36m1\n\u001b[0;32m----> <a href='vscode-notebook-cell:/home/rml/Development/metodo-matricial/ejemplos/armaduras.ipynb#X13sZmlsZQ%3D%3D?line=0'>1</a>\u001b[0m stiffness_beam(\u001b[39m1\u001b[39;49m,\u001b[39m1\u001b[39;49m,\u001b[39m1\u001b[39;49m)\n",
      "File \u001b[0;32m~/Development/metodo-matricial/ejemplos/func.py:16\u001b[0m, in \u001b[0;36mstiffness_beam\u001b[0;34m(E, I, L, c)\u001b[0m\n\u001b[1;32m      8\u001b[0m \u001b[39mdef\u001b[39;00m \u001b[39mstiffness_beam\u001b[39m(E, I, L, c\u001b[39m=\u001b[39m\u001b[39m1\u001b[39m):\n\u001b[1;32m      9\u001b[0m     \u001b[39m# k = E*I * np.array([\u001b[39;00m\n\u001b[1;32m     10\u001b[0m     \u001b[39m#     [ 12/L**3,  6/L**2, -12/L**3,  6/L**2],\u001b[39;00m\n\u001b[0;32m   (...)\u001b[0m\n\u001b[1;32m     13\u001b[0m     \u001b[39m#     [  6/L**2,  2/L   ,  -6/L**2,  4/L   ],\u001b[39;00m\n\u001b[1;32m     14\u001b[0m     \u001b[39m# ])\u001b[39;00m\n\u001b[0;32m---> 16\u001b[0m     \u001b[39mreturn\u001b[39;00m k\n",
      "\u001b[0;31mNameError\u001b[0m: name 'k' is not defined"
     ]
    }
   ],
   "source": [
    "stiffness_beam(1,1,1)"
   ]
  },
  {
   "cell_type": "code",
   "execution_count": null,
   "metadata": {},
   "outputs": [
    {
     "data": {
      "text/plain": [
       "array([[  1.,   0.,   0.,  -1.,   0.,   0.],\n",
       "       [ 12.,   6.,   0.,   0., -12.,   6.],\n",
       "       [  6.,   4.,   0.,   0.,  -6.,   2.],\n",
       "       [ -1.,   0.,   0.,   1.,   0.,   0.],\n",
       "       [-12.,  -6.,   0.,   0.,  12.,  -6.],\n",
       "       [  6.,   2.,   0.,   0.,  -6.,   4.]])"
      ]
     },
     "execution_count": 10,
     "metadata": {},
     "output_type": "execute_result"
    }
   ],
   "source": [
    "K = stiffness_2d(E=1+, 0A=1, I=2, L=1)\n",
    "K"
   ]
  },
  {
   "cell_type": "code",
   "execution_count": null,
   "metadata": {},
   "outputs": [
    {
     "ename": "NameError",
     "evalue": "name 'I' is not defined",
     "output_type": "error",
     "traceback": [
      "\u001b[0;31m---------------------------------------------------------------------------\u001b[0m",
      "\u001b[0;31mNameError\u001b[0m                                 Traceback (most recent call last)",
      "\u001b[1;32m/home/rml/Development/metodo-matricial/ejemplos/armaduras.ipynb Cell 13\u001b[0m line \u001b[0;36m1\n\u001b[0;32m----> <a href='vscode-notebook-cell:/home/rml/Development/metodo-matricial/ejemplos/armaduras.ipynb#X21sZmlsZQ%3D%3D?line=0'>1</a>\u001b[0m K[I]\n",
      "\u001b[0;31mNameError\u001b[0m: name 'I' is not defined"
     ]
    }
   ],
   "source": [
    "K[I]"
   ]
  },
  {
   "cell_type": "code",
   "execution_count": null,
   "metadata": {},
   "outputs": [],
   "source": [
    "B = stiffness_beam(1,1,1)"
   ]
  },
  {
   "cell_type": "code",
   "execution_count": null,
   "metadata": {},
   "outputs": [
    {
     "data": {
      "text/plain": [
       "array([[ 12.,   6., -12.,   6.],\n",
       "       [  6.,   4.,  -6.,   2.],\n",
       "       [-12.,  -6.,  12.,  -6.],\n",
       "       [  6.,   2.,  -6.,   4.]])"
      ]
     },
     "execution_count": 13,
     "metadata": {},
     "output_type": "execute_result"
    }
   ],
   "source": [
    "B"
   ]
  },
  {
   "cell_type": "code",
   "execution_count": null,
   "metadata": {},
   "outputs": [],
   "source": []
  }
 ],
 "metadata": {
  "kernelspec": {
   "display_name": "Python 3",
   "language": "python",
   "name": "python3"
  },
  "language_info": {
   "codemirror_mode": {
    "name": "ipython",
    "version": 3
   },
   "file_extension": ".py",
   "mimetype": "text/x-python",
   "name": "python",
   "nbconvert_exporter": "python",
   "pygments_lexer": "ipython3",
   "version": "3.11.5"
  }
 },
 "nbformat": 4,
 "nbformat_minor": 2
}
