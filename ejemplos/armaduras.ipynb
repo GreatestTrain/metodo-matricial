{
 "cells": [
  {
   "cell_type": "code",
   "execution_count": 1,
   "metadata": {},
   "outputs": [],
   "source": [
    "import numpy as np\n",
    "import pandas as pd\n",
    "from func import *\n",
    "\n",
    "inf = np.inf"
   ]
  },
  {
   "cell_type": "markdown",
   "metadata": {},
   "source": [
    "# Nodos"
   ]
  },
  {
   "cell_type": "code",
   "execution_count": 2,
   "metadata": {},
   "outputs": [],
   "source": [
    "# Coordenadas\n",
    "# |x|y|\n",
    "C = np.array([\n",
    "    [0,0],\n",
    "    [1,1],\n",
    "    [4,9],\n",
    "])\n",
    "assert np.shape(C)[1] == 2"
   ]
  },
  {
   "cell_type": "code",
   "execution_count": 3,
   "metadata": {},
   "outputs": [],
   "source": [
    "# Soportes\n",
    "# |x|y|\n",
    "S = np.array([\n",
    "    [0,1],\n",
    "    [0,1],\n",
    "    [1,1]\n",
    "])\n",
    "assert np.shape(S) == np.shape(C)"
   ]
  },
  {
   "cell_type": "markdown",
   "metadata": {},
   "source": [
    "# Barras"
   ]
  },
  {
   "cell_type": "code",
   "execution_count": 7,
   "metadata": {},
   "outputs": [],
   "source": [
    "# Puntos\n",
    "# |x|y|\n",
    "P = np.array([\n",
    "    [0,1],\n",
    "    [1,2],\n",
    "])\n",
    "assert np.shape(P)[1] == 2, \"Cada barra debe estar definida solo por 2 puntos.\""
   ]
  },
  {
   "cell_type": "code",
   "execution_count": 8,
   "metadata": {},
   "outputs": [
    {
     "data": {
      "text/plain": [
       "array([1.41421356, 8.54400375])"
      ]
     },
     "execution_count": 8,
     "metadata": {},
     "output_type": "execute_result"
    }
   ],
   "source": [
    "# Longitudes\n",
    "L = np.squeeze(np.linalg.norm(np.diff(C[P], axis=1), axis=2))\n",
    "L"
   ]
  },
  {
   "cell_type": "code",
   "execution_count": 9,
   "metadata": {},
   "outputs": [
    {
     "data": {
      "text/plain": [
       "array([0.78539816, 1.21202566])"
      ]
     },
     "execution_count": 9,
     "metadata": {},
     "output_type": "execute_result"
    }
   ],
   "source": [
    "# Ángulos directores\n",
    "alpha = np.arctan(np.divide(*(np.diff(C[P], axis=1).squeeze().T[::-1])))\n",
    "alpha"
   ]
  },
  {
   "cell_type": "code",
   "execution_count": 10,
   "metadata": {},
   "outputs": [],
   "source": [
    "# Modulo de elasticidad - Area\n",
    "# |E|A|\n",
    "EA = np.array([\n",
    "    [1, 2],\n",
    "    [2, 2],\n",
    "])\n",
    "assert np.shape(EA)[1] == 2, \"La matriz solo debe contener 2 valores por fila.\"\n",
    "assert np.shape(EA)[0] == np.shape(P)[0], \"No existe el número de barras.\""
   ]
  },
  {
   "cell_type": "code",
   "execution_count": null,
   "metadata": {},
   "outputs": [],
   "source": []
  }
 ],
 "metadata": {
  "kernelspec": {
   "display_name": "Python 3",
   "language": "python",
   "name": "python3"
  },
  "language_info": {
   "codemirror_mode": {
    "name": "ipython",
    "version": 3
   },
   "file_extension": ".py",
   "mimetype": "text/x-python",
   "name": "python",
   "nbconvert_exporter": "python",
   "pygments_lexer": "ipython3",
   "version": "3.11.5"
  }
 },
 "nbformat": 4,
 "nbformat_minor": 2
}
