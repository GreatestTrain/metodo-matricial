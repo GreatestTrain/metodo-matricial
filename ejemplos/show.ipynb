{
 "cells": [
  {
   "cell_type": "code",
   "execution_count": 1,
   "metadata": {},
   "outputs": [],
   "source": [
    "from func import *\n",
    "import numpy as np\n",
    "import pandas as pd"
   ]
  },
  {
   "cell_type": "code",
   "execution_count": 2,
   "metadata": {},
   "outputs": [],
   "source": [
    "#inf = np.finfo(np.float32).max\n",
    "inf = 1_000_000"
   ]
  },
  {
   "cell_type": "code",
   "execution_count": 3,
   "metadata": {},
   "outputs": [],
   "source": [
    "C = np.array([\n",
    "    [ 0, 0],\n",
    "    [10, 0],\n",
    "    [ 4, 3],\n",
    "    [10, 3],\n",
    "    [12, 3],\n",
    "])\n",
    "assert np.shape(C)[1] == 2, \"Las coordenadas se componen de 2 valores.\""
   ]
  },
  {
   "cell_type": "code",
   "execution_count": 4,
   "metadata": {},
   "outputs": [],
   "source": [
    "S = np.array([\n",
    "    [0,0,0],\n",
    "    [0,0,1],\n",
    "    [1,1,1],\n",
    "    [1,1,1],\n",
    "    [1,1,1]\n",
    "])\n",
    "assert np.shape(S)[1] == 3, \"La matriz S debe estar compuesta de 3 columnas.\"\n",
    "assert np.shape(S)[0] == np.shape(C)[0], \"La matriz S y la matriz C deben tener la misma forma.\""
   ]
  },
  {
   "cell_type": "code",
   "execution_count": 5,
   "metadata": {},
   "outputs": [],
   "source": [
    "B = np.array([\n",
    "    [0,2],\n",
    "    [2,3],\n",
    "    [1,3],\n",
    "    [3,4]\n",
    "])\n",
    "assert np.shape(B)[1] == 2, \"Las barras deben estar definidas por dos puntos\""
   ]
  },
  {
   "cell_type": "code",
   "execution_count": 6,
   "metadata": {},
   "outputs": [],
   "source": [
    "EAI = np.array([\n",
    "    [1, inf, 1],\n",
    "    [1, inf, 1],\n",
    "    [1, inf, 1],\n",
    "    [1, inf, 1]\n",
    "])"
   ]
  },
  {
   "cell_type": "code",
   "execution_count": 7,
   "metadata": {},
   "outputs": [],
   "source": [
    "L = np.linalg.norm(np.diff(C[B], axis=1), axis=2)\n",
    "with np.errstate(divide='ignore'):\n",
    "    alpha = np.arctan(np.divide(*(np.diff(C[B], axis=1).squeeze().T[::-1])))\n",
    "np.rad2deg(alpha)\n",
    "EAIL = np.hstack([EAI, L])"
   ]
  },
  {
   "cell_type": "code",
   "execution_count": 8,
   "metadata": {},
   "outputs": [],
   "source": [
    "with np.errstate(divide='ignore', ):    \n",
    "    Ki = []\n",
    "    A = []\n",
    "    Kt = []\n",
    "    for el, t in zip(EAIL, alpha):\n",
    "        Ki.append(stiffness_2d(*el))\n",
    "        A.append(rot_2d(t))\n",
    "        Kt.append(A[-1].T @ Ki[-1] @ A[-1])\n",
    "    Ki = np.array(Ki)\n",
    "    A = np.array(A)\n",
    "    Kt = np.array(Kt)"
   ]
  },
  {
   "cell_type": "code",
   "execution_count": 9,
   "metadata": {},
   "outputs": [],
   "source": [
    "def format(value) -> str:\n",
    "    #if np.abs(value) > 10000:\n",
    "    #    return 'inf'\n",
    "    return value.format\n",
    "\n",
    "pd.options.display.float_format = '{:.3F}'.format"
   ]
  },
  {
   "cell_type": "code",
   "execution_count": 10,
   "metadata": {},
   "outputs": [
    {
     "data": {
      "text/plain": [
       "((15, 15), (15,))"
      ]
     },
     "execution_count": 10,
     "metadata": {},
     "output_type": "execute_result"
    }
   ],
   "source": [
    "Kg = np.zeros(shape=(S.size,S.size))\n",
    "GLg = np.zeros(shape=(S.size, 1))\n",
    "_idx = np.arange(0, S.size)\n",
    "G_idx = _idx.reshape(len(S), -1)[B].reshape(-1, 6)\n",
    "for idx, Ki, GL in zip(G_idx, Kt, S[B]):\n",
    "    Kg[*np.meshgrid(idx, idx)] += Ki\n",
    "    # GLg[idx] += GL.ravel()\n",
    "GLg = S.ravel()\n",
    "Kg.shape, GLg.shape"
   ]
  },
  {
   "cell_type": "code",
   "execution_count": 11,
   "metadata": {},
   "outputs": [
    {
     "data": {
      "text/html": [
       "<div>\n",
       "<style scoped>\n",
       "    .dataframe tbody tr th:only-of-type {\n",
       "        vertical-align: middle;\n",
       "    }\n",
       "\n",
       "    .dataframe tbody tr th {\n",
       "        vertical-align: top;\n",
       "    }\n",
       "\n",
       "    .dataframe thead th {\n",
       "        text-align: right;\n",
       "    }\n",
       "</style>\n",
       "<table border=\"1\" class=\"dataframe\">\n",
       "  <thead>\n",
       "    <tr style=\"text-align: right;\">\n",
       "      <th></th>\n",
       "      <th>6</th>\n",
       "      <th>7</th>\n",
       "      <th>8</th>\n",
       "      <th>9</th>\n",
       "      <th>10</th>\n",
       "      <th>11</th>\n",
       "      <th>12</th>\n",
       "      <th>13</th>\n",
       "      <th>14</th>\n",
       "      <th>15</th>\n",
       "    </tr>\n",
       "  </thead>\n",
       "  <tbody>\n",
       "    <tr>\n",
       "      <th>6</th>\n",
       "      <td>1.333</td>\n",
       "      <td>0.000</td>\n",
       "      <td>0.000</td>\n",
       "      <td>0.000</td>\n",
       "      <td>0.667</td>\n",
       "      <td>-0.000</td>\n",
       "      <td>0.667</td>\n",
       "      <td>0.000</td>\n",
       "      <td>0.000</td>\n",
       "      <td>0.000</td>\n",
       "    </tr>\n",
       "    <tr>\n",
       "      <th>7</th>\n",
       "      <td>0.000</td>\n",
       "      <td>294666.701</td>\n",
       "      <td>95999.954</td>\n",
       "      <td>0.144</td>\n",
       "      <td>-166666.667</td>\n",
       "      <td>0.000</td>\n",
       "      <td>0.000</td>\n",
       "      <td>0.000</td>\n",
       "      <td>0.000</td>\n",
       "      <td>0.000</td>\n",
       "    </tr>\n",
       "    <tr>\n",
       "      <th>8</th>\n",
       "      <td>0.000</td>\n",
       "      <td>95999.954</td>\n",
       "      <td>72000.117</td>\n",
       "      <td>-0.025</td>\n",
       "      <td>0.000</td>\n",
       "      <td>-0.056</td>\n",
       "      <td>0.167</td>\n",
       "      <td>0.000</td>\n",
       "      <td>0.000</td>\n",
       "      <td>0.000</td>\n",
       "    </tr>\n",
       "    <tr>\n",
       "      <th>9</th>\n",
       "      <td>0.000</td>\n",
       "      <td>0.144</td>\n",
       "      <td>-0.025</td>\n",
       "      <td>1.467</td>\n",
       "      <td>0.000</td>\n",
       "      <td>-0.167</td>\n",
       "      <td>0.333</td>\n",
       "      <td>0.000</td>\n",
       "      <td>0.000</td>\n",
       "      <td>0.000</td>\n",
       "    </tr>\n",
       "    <tr>\n",
       "      <th>10</th>\n",
       "      <td>0.667</td>\n",
       "      <td>-166666.667</td>\n",
       "      <td>0.000</td>\n",
       "      <td>0.000</td>\n",
       "      <td>666667.111</td>\n",
       "      <td>0.000</td>\n",
       "      <td>0.667</td>\n",
       "      <td>-500000.000</td>\n",
       "      <td>0.000</td>\n",
       "      <td>0.000</td>\n",
       "    </tr>\n",
       "    <tr>\n",
       "      <th>11</th>\n",
       "      <td>-0.000</td>\n",
       "      <td>0.000</td>\n",
       "      <td>-0.056</td>\n",
       "      <td>-0.167</td>\n",
       "      <td>0.000</td>\n",
       "      <td>333334.889</td>\n",
       "      <td>1.333</td>\n",
       "      <td>0.000</td>\n",
       "      <td>-1.500</td>\n",
       "      <td>1.500</td>\n",
       "    </tr>\n",
       "    <tr>\n",
       "      <th>12</th>\n",
       "      <td>0.667</td>\n",
       "      <td>0.000</td>\n",
       "      <td>0.167</td>\n",
       "      <td>0.333</td>\n",
       "      <td>0.667</td>\n",
       "      <td>1.333</td>\n",
       "      <td>4.000</td>\n",
       "      <td>0.000</td>\n",
       "      <td>-1.500</td>\n",
       "      <td>1.000</td>\n",
       "    </tr>\n",
       "    <tr>\n",
       "      <th>13</th>\n",
       "      <td>0.000</td>\n",
       "      <td>0.000</td>\n",
       "      <td>0.000</td>\n",
       "      <td>0.000</td>\n",
       "      <td>-500000.000</td>\n",
       "      <td>0.000</td>\n",
       "      <td>0.000</td>\n",
       "      <td>500000.000</td>\n",
       "      <td>0.000</td>\n",
       "      <td>0.000</td>\n",
       "    </tr>\n",
       "    <tr>\n",
       "      <th>14</th>\n",
       "      <td>0.000</td>\n",
       "      <td>0.000</td>\n",
       "      <td>0.000</td>\n",
       "      <td>0.000</td>\n",
       "      <td>0.000</td>\n",
       "      <td>-1.500</td>\n",
       "      <td>-1.500</td>\n",
       "      <td>0.000</td>\n",
       "      <td>1.500</td>\n",
       "      <td>-1.500</td>\n",
       "    </tr>\n",
       "    <tr>\n",
       "      <th>15</th>\n",
       "      <td>0.000</td>\n",
       "      <td>0.000</td>\n",
       "      <td>0.000</td>\n",
       "      <td>0.000</td>\n",
       "      <td>0.000</td>\n",
       "      <td>1.500</td>\n",
       "      <td>1.000</td>\n",
       "      <td>0.000</td>\n",
       "      <td>-1.500</td>\n",
       "      <td>2.000</td>\n",
       "    </tr>\n",
       "  </tbody>\n",
       "</table>\n",
       "</div>"
      ],
      "text/plain": [
       "       6           7         8      9           10         11     12  \\\n",
       "6   1.333       0.000     0.000  0.000       0.667     -0.000  0.667   \n",
       "7   0.000  294666.701 95999.954  0.144 -166666.667      0.000  0.000   \n",
       "8   0.000   95999.954 72000.117 -0.025       0.000     -0.056  0.167   \n",
       "9   0.000       0.144    -0.025  1.467       0.000     -0.167  0.333   \n",
       "10  0.667 -166666.667     0.000  0.000  666667.111      0.000  0.667   \n",
       "11 -0.000       0.000    -0.056 -0.167       0.000 333334.889  1.333   \n",
       "12  0.667       0.000     0.167  0.333       0.667      1.333  4.000   \n",
       "13  0.000       0.000     0.000  0.000 -500000.000      0.000  0.000   \n",
       "14  0.000       0.000     0.000  0.000       0.000     -1.500 -1.500   \n",
       "15  0.000       0.000     0.000  0.000       0.000      1.500  1.000   \n",
       "\n",
       "            13     14     15  \n",
       "6        0.000  0.000  0.000  \n",
       "7        0.000  0.000  0.000  \n",
       "8        0.000  0.000  0.000  \n",
       "9        0.000  0.000  0.000  \n",
       "10 -500000.000  0.000  0.000  \n",
       "11       0.000 -1.500  1.500  \n",
       "12       0.000 -1.500  1.000  \n",
       "13  500000.000  0.000  0.000  \n",
       "14       0.000  1.500 -1.500  \n",
       "15       0.000 -1.500  2.000  "
      ]
     },
     "execution_count": 11,
     "metadata": {},
     "output_type": "execute_result"
    }
   ],
   "source": [
    "pd.DataFrame(np.diag(GLg) @ Kg @ np.diag(GLg), index=_idx + 1, columns=_idx + 1)\\\n",
    "    .pipe(lambda x: x.loc[(x != 0).any(axis=0), (x != 0).any(axis=1)])"
   ]
  },
  {
   "cell_type": "code",
   "execution_count": 12,
   "metadata": {},
   "outputs": [
    {
     "data": {
      "image/png": "[encoded data removed]",
      "text/plain": [
       "<Figure size 640x480 with 1 Axes>"
      ]
     },
     "metadata": {},
     "output_type": "display_data"
    }
   ],
   "source": [
    "fig, ax = plt.subplots()\n",
    "plot_vectors(C[B] ,ax=ax, margin=100)\n",
    "plt.show()"
   ]
  }
 ],
 "metadata": {
  "kernelspec": {
   "display_name": "Python 3",
   "language": "python",
   "name": "python3"
  },
  "language_info": {
   "codemirror_mode": {
    "name": "ipython",
    "version": 3
   },
   "file_extension": ".py",
   "mimetype": "text/x-python",
   "name": "python",
   "nbconvert_exporter": "python",
   "pygments_lexer": "ipython3",
   "version": "3.11.5"
  }
 },
 "nbformat": 4,
 "nbformat_minor": 2
}
