{
 "cells": [
  {
   "cell_type": "code",
   "execution_count": 6,
   "metadata": {},
   "outputs": [
    {
     "ename": "AttributeError",
     "evalue": "module 'ipywidgets' has no attribute 'DataGrid'",
     "output_type": "error",
     "traceback": [
      "\u001b[0;31m---------------------------------------------------------------------------\u001b[0m",
      "\u001b[0;31mAttributeError\u001b[0m                            Traceback (most recent call last)",
      "\u001b[1;32m/home/rml/Development/metodo-matricial/ejemplos/test.ipynb Cell 1\u001b[0m line \u001b[0;36m1\n\u001b[1;32m      <a href='vscode-notebook-cell:/home/rml/Development/metodo-matricial/ejemplos/test.ipynb#W0sZmlsZQ%3D%3D?line=4'>5</a>\u001b[0m data \u001b[39m=\u001b[39m [{\u001b[39m'\u001b[39m\u001b[39mName\u001b[39m\u001b[39m'\u001b[39m: \u001b[39m'\u001b[39m\u001b[39mAlice\u001b[39m\u001b[39m'\u001b[39m, \u001b[39m'\u001b[39m\u001b[39mAge\u001b[39m\u001b[39m'\u001b[39m: \u001b[39m30\u001b[39m, \u001b[39m'\u001b[39m\u001b[39mCity\u001b[39m\u001b[39m'\u001b[39m: \u001b[39m'\u001b[39m\u001b[39mNew York\u001b[39m\u001b[39m'\u001b[39m},\n\u001b[1;32m      <a href='vscode-notebook-cell:/home/rml/Development/metodo-matricial/ejemplos/test.ipynb#W0sZmlsZQ%3D%3D?line=5'>6</a>\u001b[0m         {\u001b[39m'\u001b[39m\u001b[39mName\u001b[39m\u001b[39m'\u001b[39m: \u001b[39m'\u001b[39m\u001b[39mBob\u001b[39m\u001b[39m'\u001b[39m, \u001b[39m'\u001b[39m\u001b[39mAge\u001b[39m\u001b[39m'\u001b[39m: \u001b[39m25\u001b[39m, \u001b[39m'\u001b[39m\u001b[39mCity\u001b[39m\u001b[39m'\u001b[39m: \u001b[39m'\u001b[39m\u001b[39mLos Angeles\u001b[39m\u001b[39m'\u001b[39m},\n\u001b[1;32m      <a href='vscode-notebook-cell:/home/rml/Development/metodo-matricial/ejemplos/test.ipynb#W0sZmlsZQ%3D%3D?line=6'>7</a>\u001b[0m         {\u001b[39m'\u001b[39m\u001b[39mName\u001b[39m\u001b[39m'\u001b[39m: \u001b[39m'\u001b[39m\u001b[39mCharlie\u001b[39m\u001b[39m'\u001b[39m, \u001b[39m'\u001b[39m\u001b[39mAge\u001b[39m\u001b[39m'\u001b[39m: \u001b[39m35\u001b[39m, \u001b[39m'\u001b[39m\u001b[39mCity\u001b[39m\u001b[39m'\u001b[39m: \u001b[39m'\u001b[39m\u001b[39mChicago\u001b[39m\u001b[39m'\u001b[39m}]\n\u001b[1;32m      <a href='vscode-notebook-cell:/home/rml/Development/metodo-matricial/ejemplos/test.ipynb#W0sZmlsZQ%3D%3D?line=8'>9</a>\u001b[0m \u001b[39m# Create a DataGrid widget\u001b[39;00m\n\u001b[0;32m---> <a href='vscode-notebook-cell:/home/rml/Development/metodo-matricial/ejemplos/test.ipynb#W0sZmlsZQ%3D%3D?line=9'>10</a>\u001b[0m data_grid \u001b[39m=\u001b[39m widgets\u001b[39m.\u001b[39;49mDataGrid(editable\u001b[39m=\u001b[39m\u001b[39mTrue\u001b[39;00m, column_headers\u001b[39m=\u001b[39m\u001b[39mTrue\u001b[39;00m)\n\u001b[1;32m     <a href='vscode-notebook-cell:/home/rml/Development/metodo-matricial/ejemplos/test.ipynb#W0sZmlsZQ%3D%3D?line=10'>11</a>\u001b[0m data_grid\u001b[39m.\u001b[39mheader \u001b[39m=\u001b[39m [\u001b[39m'\u001b[39m\u001b[39mName\u001b[39m\u001b[39m'\u001b[39m, \u001b[39m'\u001b[39m\u001b[39mAge\u001b[39m\u001b[39m'\u001b[39m, \u001b[39m'\u001b[39m\u001b[39mCity\u001b[39m\u001b[39m'\u001b[39m]\n\u001b[1;32m     <a href='vscode-notebook-cell:/home/rml/Development/metodo-matricial/ejemplos/test.ipynb#W0sZmlsZQ%3D%3D?line=11'>12</a>\u001b[0m data_grid\u001b[39m.\u001b[39mrows \u001b[39m=\u001b[39m [[row[\u001b[39m'\u001b[39m\u001b[39mName\u001b[39m\u001b[39m'\u001b[39m], row[\u001b[39m'\u001b[39m\u001b[39mAge\u001b[39m\u001b[39m'\u001b[39m], row[\u001b[39m'\u001b[39m\u001b[39mCity\u001b[39m\u001b[39m'\u001b[39m]] \u001b[39mfor\u001b[39;00m row \u001b[39min\u001b[39;00m data]\n",
      "\u001b[0;31mAttributeError\u001b[0m: module 'ipywidgets' has no attribute 'DataGrid'"
     ]
    }
   ],
   "source": [
    "import ipywidgets as widgets\n",
    "from IPython.display import display\n",
    "\n",
    "# Sample data for the table\n",
    "data = [{'Name': 'Alice', 'Age': 30, 'City': 'New York'},\n",
    "        {'Name': 'Bob', 'Age': 25, 'City': 'Los Angeles'},\n",
    "        {'Name': 'Charlie', 'Age': 35, 'City': 'Chicago'}]\n",
    "\n",
    "# Create a DataGrid widget\n",
    "data_grid = widgets.DataGrid(editable=True, column_headers=True)\n",
    "data_grid.header = ['Name', 'Age', 'City']\n",
    "data_grid.rows = [[row['Name'], row['Age'], row['City']] for row in data]\n",
    "\n",
    "# Function to handle changes in the table\n",
    "def on_value_change(change):\n",
    "    data_grid.update(change['new'])\n",
    "\n",
    "data_grid.observe(on_value_change, 'values')\n",
    "\n",
    "# Display the table\n",
    "display(data_grid)\n"
   ]
  },
  {
   "cell_type": "code",
   "execution_count": 4,
   "metadata": {},
   "outputs": [
    {
     "data": {
      "text/plain": [
       "[((1.0, 1.0), (2.0, 2.0)),\n",
       " ((1.0, 1.0), (2.0, 2.0)),\n",
       " ((1.0, 1.0), (2.0, 2.0)),\n",
       " ((1.0, 1.0), (2.0, 2.0))]"
      ]
     },
     "execution_count": 4,
     "metadata": {},
     "output_type": "execute_result"
    }
   ],
   "source": [
    "connections"
   ]
  },
  {
   "cell_type": "code",
   "execution_count": 2,
   "metadata": {},
   "outputs": [],
   "source": [
    "import numpy as np"
   ]
  },
  {
   "cell_type": "code",
   "execution_count": 18,
   "metadata": {},
   "outputs": [
    {
     "data": {
      "text/plain": [
       "array([[1, 0, 0, 0, 0],\n",
       "       [0, 2, 0, 0, 0],\n",
       "       [0, 0, 3, 5, 0],\n",
       "       [0, 0, 0, 4, 0],\n",
       "       [0, 0, 0, 0, 5]])"
      ]
     },
     "execution_count": 18,
     "metadata": {},
     "output_type": "execute_result"
    }
   ],
   "source": [
    "a = np.diag([1,2,3,4,5])\n",
    "a[2,3] = 5\n",
    "a"
   ]
  },
  {
   "cell_type": "code",
   "execution_count": 25,
   "metadata": {},
   "outputs": [],
   "source": [
    "ll = list([*a[~np.any(a == 5, axis=1)]])"
   ]
  },
  {
   "cell_type": "code",
   "execution_count": 26,
   "metadata": {},
   "outputs": [
    {
     "data": {
      "text/plain": [
       "[array([1, 0, 0, 0, 0]), array([0, 2, 0, 0, 0]), array([0, 0, 0, 4, 0])]"
      ]
     },
     "execution_count": 26,
     "metadata": {},
     "output_type": "execute_result"
    }
   ],
   "source": [
    "ll"
   ]
  },
  {
   "cell_type": "code",
   "execution_count": 15,
   "metadata": {},
   "outputs": [
    {
     "data": {
      "text/plain": [
       "array([ True, False, False, False, False])"
      ]
     },
     "execution_count": 15,
     "metadata": {},
     "output_type": "execute_result"
    }
   ],
   "source": [
    "np.any(a == 1, axis=1)"
   ]
  },
  {
   "cell_type": "code",
   "execution_count": 7,
   "metadata": {},
   "outputs": [],
   "source": [
    "a[a == 1] += 1"
   ]
  },
  {
   "cell_type": "code",
   "execution_count": 8,
   "metadata": {},
   "outputs": [
    {
     "data": {
      "text/plain": [
       "array([[2, 0, 0, 0, 0],\n",
       "       [0, 2, 0, 0, 0],\n",
       "       [0, 0, 3, 0, 0],\n",
       "       [0, 0, 0, 4, 0],\n",
       "       [0, 0, 0, 0, 5]])"
      ]
     },
     "execution_count": 8,
     "metadata": {},
     "output_type": "execute_result"
    }
   ],
   "source": [
    "a"
   ]
  }
 ],
 "metadata": {
  "kernelspec": {
   "display_name": "Python 3",
   "language": "python",
   "name": "python3"
  },
  "language_info": {
   "codemirror_mode": {
    "name": "ipython",
    "version": 3
   },
   "file_extension": ".py",
   "mimetype": "text/x-python",
   "name": "python",
   "nbconvert_exporter": "python",
   "pygments_lexer": "ipython3",
   "version": "3.11.5"
  }
 },
 "nbformat": 4,
 "nbformat_minor": 2
}
